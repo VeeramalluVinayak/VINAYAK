{
  "nbformat": 4,
  "nbformat_minor": 0,
  "metadata": {
    "colab": {
      "provenance": [],
      "authorship_tag": "ABX9TyNA3OI5TBdEpETg2spEZNBX",
      "include_colab_link": true
    },
    "kernelspec": {
      "name": "python3",
      "display_name": "Python 3"
    },
    "language_info": {
      "name": "python"
    }
  },
  "cells": [
    {
      "cell_type": "markdown",
      "metadata": {
        "id": "view-in-github",
        "colab_type": "text"
      },
      "source": [
        "<a href=\"https://colab.research.google.com/github/VeeramalluVinayak/VINAYAK/blob/main/DICTIONARY.ipynb\" target=\"_parent\"><img src=\"https://colab.research.google.com/assets/colab-badge.svg\" alt=\"Open In Colab\"/></a>"
      ]
    },
    {
      "cell_type": "code",
      "execution_count": 1,
      "metadata": {
        "colab": {
          "base_uri": "https://localhost:8080/"
        },
        "id": "zLC85JTnD_P4",
        "outputId": "b606616d-4cfb-4f2a-9a29-a7d05b464720"
      },
      "outputs": [
        {
          "output_type": "stream",
          "name": "stdout",
          "text": [
            "Hello World\n"
          ]
        }
      ],
      "source": [
        "txt = \" Hello World \"\n",
        "print(txt.strip())"
      ]
    },
    {
      "cell_type": "markdown",
      "source": [
        "# * ***Dictionaries***"
      ],
      "metadata": {
        "id": "3ykhncO9PbSm"
      }
    },
    {
      "cell_type": "markdown",
      "source": [
        "-> Dictionaries are used to store data values in key:value pairs.\n",
        "\n",
        "-> A dictionary is a collection which is ordered*, changeable and do not allow\n",
        "  duplicates.\n",
        "\n",
        "-> As of Python version 3.7, dictionaries are ordered. In Python 3.6 and\n",
        "   earlier, dictionaries are unordered.\n",
        "\n"
      ],
      "metadata": {
        "id": "7N0nWq3WPkzq"
      }
    },
    {
      "cell_type": "code",
      "source": [
        "thisdict = {\n",
        "  \"brand\": \"Ford\",\n",
        "  \"model\": \"Mustang\",\n",
        "  \"year\": 1964\n",
        "}\n",
        "print(thisdict)"
      ],
      "metadata": {
        "colab": {
          "base_uri": "https://localhost:8080/"
        },
        "id": "hXpBlDj_QDfH",
        "outputId": "96fcab48-10b4-4c45-8e07-f0d1ece6059d"
      },
      "execution_count": 2,
      "outputs": [
        {
          "output_type": "stream",
          "name": "stdout",
          "text": [
            "{'brand': 'Ford', 'model': 'Mustang', 'year': 1964}\n"
          ]
        }
      ]
    },
    {
      "cell_type": "code",
      "source": [
        "std_details = {\"saikrishna\":\"8247872408\",\n",
        "               \"study\":\"btech\",\n",
        "               \"year\":\"3rd\"\n",
        "              }\n",
        "print(std_details)"
      ],
      "metadata": {
        "colab": {
          "base_uri": "https://localhost:8080/"
        },
        "id": "4SPpqouIQMUg",
        "outputId": "ea5c4ab3-5b30-4d77-cb2c-2adf30a2a6a6"
      },
      "execution_count": 7,
      "outputs": [
        {
          "output_type": "stream",
          "name": "stdout",
          "text": [
            "{'saikrishna': '8247872408', 'study': 'btech', 'year': '3rd'}\n"
          ]
        }
      ]
    },
    {
      "cell_type": "code",
      "source": [
        "std_details = {\"saikrishna\":\"8247872408\",\n",
        "               \"study\":\"btech\",\n",
        "               \"year\":\"3rd\"\n",
        "              }\n",
        "a = std_details['saikrishna']\n",
        "b = std_details[\"study\"]\n",
        "c = std_details[\"year\"]\n",
        "print(std_details)\n",
        "print(\"Dail {} to call saikrishna\".format(a))\n",
        "print(\"His study is {1} year {0}.\".format(b,c))"
      ],
      "metadata": {
        "colab": {
          "base_uri": "https://localhost:8080/"
        },
        "id": "kjYUxHxMRv9h",
        "outputId": "81befc72-bac2-41fe-fb59-c30fa38761bc"
      },
      "execution_count": 8,
      "outputs": [
        {
          "output_type": "stream",
          "name": "stdout",
          "text": [
            "{'saikrishna': '8247872408', 'study': 'btech', 'year': '3rd'}\n",
            "Dail 8247872408 to call saikrishna\n",
            "His study is 3rd year btech.\n"
          ]
        }
      ]
    },
    {
      "cell_type": "code",
      "source": [
        "std_details = {\"saikrishna\":\"8247872408\",\n",
        "               \"study\":\"btech\",\n",
        "               \"year\":\"3rd\"\n",
        "              }\n",
        "print(len(std_details))"
      ],
      "metadata": {
        "colab": {
          "base_uri": "https://localhost:8080/"
        },
        "id": "K0n7BMahS5C2",
        "outputId": "aac1f0c1-1b54-46f7-cd51-58b0df5a0e89"
      },
      "execution_count": 9,
      "outputs": [
        {
          "output_type": "stream",
          "name": "stdout",
          "text": [
            "3\n"
          ]
        }
      ]
    },
    {
      "cell_type": "code",
      "source": [
        "std_details = {\"saikrishna\":\"8247872408\",\n",
        "               \"study\":\"btech\",\n",
        "               \"year\":\"3rd\"\n",
        "              }\n",
        "std_details[\"govardhan\"] = \"6302626746\"\n",
        "print(std_details)\n",
        "print(len(std_details))"
      ],
      "metadata": {
        "colab": {
          "base_uri": "https://localhost:8080/"
        },
        "id": "4QW2aLqnTHEY",
        "outputId": "218f471b-005e-43a4-9d65-23628cc73f63"
      },
      "execution_count": 10,
      "outputs": [
        {
          "output_type": "stream",
          "name": "stdout",
          "text": [
            "{'saikrishna': '8247872408', 'study': 'btech', 'year': '3rd', 'govardhan': '6302626746'}\n",
            "4\n"
          ]
        }
      ]
    },
    {
      "cell_type": "code",
      "source": [
        "std_details = {\"saikrishna\":\"8247872408\",\n",
        "               \"study\":\"btech\",\n",
        "               \"year\":\"3rd\"\n",
        "              }\n",
        "print(type(std_details))"
      ],
      "metadata": {
        "colab": {
          "base_uri": "https://localhost:8080/"
        },
        "id": "y_0fIZYETo__",
        "outputId": "48cf6d91-42d6-49e7-882d-b1de5b7b805e"
      },
      "execution_count": 11,
      "outputs": [
        {
          "output_type": "stream",
          "name": "stdout",
          "text": [
            "<class 'dict'>\n"
          ]
        }
      ]
    },
    {
      "cell_type": "code",
      "source": [
        "std_details = {'saikrishna': '8247872408', 'study': 'btech', 'year': '3rd', 'govardhan': '6302626746'}\n",
        "print(\"saikrinshna:\")\n",
        "print(std_details[\"saikrishna\"])\n",
        "print(\"study:\")\n",
        "print(std_details[\"study\"])"
      ],
      "metadata": {
        "colab": {
          "base_uri": "https://localhost:8080/"
        },
        "id": "Jn5w79i5Tsvh",
        "outputId": "0a15f822-8c77-4ad7-f2b0-fa0bb2891d1e"
      },
      "execution_count": 14,
      "outputs": [
        {
          "output_type": "stream",
          "name": "stdout",
          "text": [
            "saikrinshna:\n",
            "8247872408\n",
            "study:\n",
            "btech\n"
          ]
        }
      ]
    },
    {
      "cell_type": "code",
      "source": [
        "std_details = {'saikrishna': '8247872408', 'study': 'btech', 'year': '3rd', 'govardhan': '6302626746'}\n",
        "x=std_details.keys()\n",
        "print(x)"
      ],
      "metadata": {
        "colab": {
          "base_uri": "https://localhost:8080/"
        },
        "id": "gv-DZtx0U8_F",
        "outputId": "543d7240-ecac-4a4a-d79c-8e7b52c3a220"
      },
      "execution_count": 15,
      "outputs": [
        {
          "output_type": "stream",
          "name": "stdout",
          "text": [
            "dict_keys(['saikrishna', 'study', 'year', 'govardhan'])\n"
          ]
        }
      ]
    },
    {
      "cell_type": "code",
      "source": [
        "std_details = {'saikrishna': '8247872408', 'study': 'btech', 'year': '3rd', 'govardhan': '6302626746'}\n",
        "x=std_details.values()\n",
        "print(x)"
      ],
      "metadata": {
        "colab": {
          "base_uri": "https://localhost:8080/"
        },
        "id": "oJsckeH8VTt3",
        "outputId": "91eb421e-b1c7-4af3-85da-034df941c56d"
      },
      "execution_count": 16,
      "outputs": [
        {
          "output_type": "stream",
          "name": "stdout",
          "text": [
            "dict_values(['8247872408', 'btech', '3rd', '6302626746'])\n"
          ]
        }
      ]
    },
    {
      "cell_type": "code",
      "source": [
        "std_details = {'saikrishna': '8247872408', 'study': 'btech', 'year': '3rd', 'govardhan': '6302626746'}\n",
        "if 'study' in std_details.keys():\n",
        "  print(\"saikrishna study is:\")\n",
        "  print(std_details[\"study\"])\n",
        "if \"gopi\" in std_details.keys():\n",
        "  print(\"Gopi study is:\")\n",
        "  print(std_details[\"study\"])"
      ],
      "metadata": {
        "colab": {
          "base_uri": "https://localhost:8080/"
        },
        "id": "IbPDCjwDVYnb",
        "outputId": "79b80c5b-a089-4ba7-b80b-1b4564275a10"
      },
      "execution_count": 21,
      "outputs": [
        {
          "output_type": "stream",
          "name": "stdout",
          "text": [
            "saikrishna study is:\n",
            "btech\n"
          ]
        }
      ]
    },
    {
      "cell_type": "code",
      "source": [
        "std_details = {'saikrishna': '8247872408', 'study': 'btech', 'year': '3rd', 'govardhan': '6302626746'}\n",
        "print(\"6302626746\" in std_details.values())"
      ],
      "metadata": {
        "colab": {
          "base_uri": "https://localhost:8080/"
        },
        "id": "fVpJxsG6XZ8c",
        "outputId": "97b8cf35-e1ee-4a99-e214-646d2be7e1ff"
      },
      "execution_count": 22,
      "outputs": [
        {
          "output_type": "stream",
          "name": "stdout",
          "text": [
            "True\n"
          ]
        }
      ]
    },
    {
      "cell_type": "code",
      "source": [
        "std_details = {'phno': '8247872408', 'study': 'btech', 'year': '3rd', 'mobileno': '6302626746'}\n",
        "for student in std_details:\n",
        "  print(\"The no is {0}.He is study{1}.\".format(student, std_details[student]))"
      ],
      "metadata": {
        "colab": {
          "base_uri": "https://localhost:8080/"
        },
        "id": "V5ta4Qi1X7si",
        "outputId": "58a77466-514f-4474-8cd8-10239d526c60"
      },
      "execution_count": 24,
      "outputs": [
        {
          "output_type": "stream",
          "name": "stdout",
          "text": [
            "The no is phno.He is study8247872408.\n",
            "The no is study.He is studybtech.\n",
            "The no is year.He is study3rd.\n",
            "The no is mobileno.He is study6302626746.\n"
          ]
        }
      ]
    },
    {
      "cell_type": "code",
      "source": [
        "std_details={\n",
        "    \"saikrishna\":{\n",
        "        \"phone\":\"8247872408\",\n",
        "        \"email\":\"saikrishna@gmail.com\"\n",
        "    },\n",
        "    \"govardhan\":{\n",
        "        \"phone\":\"6302626746\",\n",
        "        \"email\":\"govardhan@gmail.com\"\n",
        "    }\n",
        "}\n",
        "for student in std_details:\n",
        "  print(\"{}'s contact info:\".format(student))\n",
        "  print(std_details[student][\"phone\"])\n",
        "  print(std_details[student][\"email\"])"
      ],
      "metadata": {
        "colab": {
          "base_uri": "https://localhost:8080/"
        },
        "id": "BFeg2aI8byiQ",
        "outputId": "c53c1b8c-bff4-46fd-857a-3cb134c4b561"
      },
      "execution_count": 26,
      "outputs": [
        {
          "output_type": "stream",
          "name": "stdout",
          "text": [
            "saikrishna's contact info:\n",
            "8247872408\n",
            "saikrishna@gmail.com\n",
            "govardhan's contact info:\n",
            "6302626746\n",
            "govardhan@gmail.com\n"
          ]
        }
      ]
    },
    {
      "cell_type": "code",
      "source": [
        "car = {\n",
        "\"brand\": \"Ford\",\n",
        "\"model\": \"Mustang\",\n",
        "\"year\": 1964\n",
        "}\n",
        "\n",
        "x = car\n",
        "\n",
        "print(x) #before the change\n",
        "\n",
        "car[\"color\"] = \"white\"\n",
        "\n",
        "print(x) #after the change"
      ],
      "metadata": {
        "colab": {
          "base_uri": "https://localhost:8080/"
        },
        "id": "1icFYT0ohjxT",
        "outputId": "cc579e6f-d38a-4585-a778-38625bb7aa70"
      },
      "execution_count": 28,
      "outputs": [
        {
          "output_type": "stream",
          "name": "stdout",
          "text": [
            "{'brand': 'Ford', 'model': 'Mustang', 'year': 1964}\n",
            "{'brand': 'Ford', 'model': 'Mustang', 'year': 1964, 'color': 'white'}\n"
          ]
        }
      ]
    },
    {
      "cell_type": "code",
      "source": [
        "car = {\n",
        "\"brand\": \"Ford\",\n",
        "\"model\": \"Mustang\",\n",
        "\"year\": 1964\n",
        "}\n",
        "\n",
        "x = car.keys()\n",
        "\n",
        "print(x) #before the change\n",
        "\n",
        "car[\"color\"] = \"white\"\n",
        "\n",
        "print(x) #after the change\n"
      ],
      "metadata": {
        "colab": {
          "base_uri": "https://localhost:8080/"
        },
        "id": "27RJKxg2htEb",
        "outputId": "1d8518f2-56a8-4449-e790-5d249e52e792"
      },
      "execution_count": 29,
      "outputs": [
        {
          "output_type": "stream",
          "name": "stdout",
          "text": [
            "dict_keys(['brand', 'model', 'year'])\n",
            "dict_keys(['brand', 'model', 'year', 'color'])\n"
          ]
        }
      ]
    },
    {
      "cell_type": "code",
      "source": [
        "car = {\n",
        "\"brand\": \"Ford\",\n",
        "\"model\": \"Mustang\",\n",
        "\"year\": 1964\n",
        "}\n",
        "\n",
        "x = car.values()\n",
        "\n",
        "print(x) #before the change\n",
        "\n",
        "car[\"color\"] = \"white\"\n",
        "\n",
        "print(x) #after the change"
      ],
      "metadata": {
        "colab": {
          "base_uri": "https://localhost:8080/"
        },
        "id": "0gwqTY6zhyq_",
        "outputId": "e900307d-8294-44e7-ffbd-c54fb86085d2"
      },
      "execution_count": 30,
      "outputs": [
        {
          "output_type": "stream",
          "name": "stdout",
          "text": [
            "dict_values(['Ford', 'Mustang', 1964])\n",
            "dict_values(['Ford', 'Mustang', 1964, 'white'])\n"
          ]
        }
      ]
    },
    {
      "cell_type": "code",
      "source": [
        "car = {\n",
        "\"brand\": \"Ford\",\n",
        "\"model\": \"Mustang\",\n",
        "\"year\": 1964\n",
        "}\n",
        "\n",
        "x = car.values()\n",
        "\n",
        "print(x) #before the change\n",
        "\n",
        "car[\"year\"] = 2020\n",
        "\n",
        "print(x) #after the change"
      ],
      "metadata": {
        "colab": {
          "base_uri": "https://localhost:8080/"
        },
        "id": "TUSBX-foiN2s",
        "outputId": "66fc9676-9733-48f4-f60c-e6acaebe40d9"
      },
      "execution_count": 31,
      "outputs": [
        {
          "output_type": "stream",
          "name": "stdout",
          "text": [
            "dict_values(['Ford', 'Mustang', 1964])\n",
            "dict_values(['Ford', 'Mustang', 2020])\n"
          ]
        }
      ]
    },
    {
      "cell_type": "code",
      "source": [
        "car = {\n",
        "\"brand\": \"Ford\",\n",
        "\"model\": \"Mustang\",\n",
        "\"year\": 1964\n",
        "}\n",
        "\n",
        "x = car.items()\n",
        "\n",
        "print(x) #before the change\n",
        "\n",
        "car[\"year\"] = 2020\n",
        "\n",
        "print(x) #after the change"
      ],
      "metadata": {
        "colab": {
          "base_uri": "https://localhost:8080/"
        },
        "id": "lzulxu4SiTPE",
        "outputId": "46f69790-2cee-4ccf-fb4d-3e7b2c09c602"
      },
      "execution_count": 32,
      "outputs": [
        {
          "output_type": "stream",
          "name": "stdout",
          "text": [
            "dict_items([('brand', 'Ford'), ('model', 'Mustang'), ('year', 1964)])\n",
            "dict_items([('brand', 'Ford'), ('model', 'Mustang'), ('year', 2020)])\n"
          ]
        }
      ]
    },
    {
      "cell_type": "code",
      "source": [
        "car = {\n",
        "\"brand\": \"Ford\",\n",
        "\"model\": \"Mustang\",\n",
        "\"year\": 1964\n",
        "}\n",
        "\n",
        "x = car.items()\n",
        "\n",
        "print(x) #before the change\n",
        "\n",
        "car[\"color\"] = \"red\"\n",
        "\n",
        "print(x) #after the change"
      ],
      "metadata": {
        "colab": {
          "base_uri": "https://localhost:8080/"
        },
        "id": "bO-vr02PiiDs",
        "outputId": "547de829-dc10-4c70-d744-4998d343f1c2"
      },
      "execution_count": 33,
      "outputs": [
        {
          "output_type": "stream",
          "name": "stdout",
          "text": [
            "dict_items([('brand', 'Ford'), ('model', 'Mustang'), ('year', 1964)])\n",
            "dict_items([('brand', 'Ford'), ('model', 'Mustang'), ('year', 1964), ('color', 'red')])\n"
          ]
        }
      ]
    },
    {
      "cell_type": "markdown",
      "source": [
        "* CHANGE ***DICTIONARY***"
      ],
      "metadata": {
        "id": "6gNhAOh8i6WQ"
      }
    },
    {
      "cell_type": "code",
      "source": [
        "car = {\n",
        "    \"Brand\" : \"Maruthi suzuki\",\n",
        "    \"model\" : \"Dzire\",\n",
        "    \"year\" : 2020\n",
        "}\n",
        "car.update({\"year\" : 2024})\n",
        "print(car)"
      ],
      "metadata": {
        "colab": {
          "base_uri": "https://localhost:8080/"
        },
        "id": "xC-CM1ltjUaK",
        "outputId": "18a5fac7-5b65-468b-fe16-e666b5c1feef"
      },
      "execution_count": 41,
      "outputs": [
        {
          "output_type": "stream",
          "name": "stdout",
          "text": [
            "{'Brand': 'Maruthi suzuki', 'model': 'Dzire', 'year': 2024}\n"
          ]
        }
      ]
    },
    {
      "cell_type": "code",
      "source": [
        "car = {\n",
        "    \"Brand\" : \"Maruthi suzuki\",\n",
        "    \"model\" : \"Dzire\",\n",
        "    \"year\" : 2020\n",
        "}\n",
        "car.update({\"color\" : \"white\"})\n",
        "print(car)"
      ],
      "metadata": {
        "colab": {
          "base_uri": "https://localhost:8080/"
        },
        "id": "kg3AXqzEk2ff",
        "outputId": "dc66d24e-0cce-4c6f-e602-a242f121c1e6"
      },
      "execution_count": 42,
      "outputs": [
        {
          "output_type": "stream",
          "name": "stdout",
          "text": [
            "{'Brand': 'Maruthi suzuki', 'model': 'Dzire', 'year': 2020, 'color': 'white'}\n"
          ]
        }
      ]
    },
    {
      "cell_type": "code",
      "source": [
        "car = {\n",
        "    \"Brand\" : \"Maruthi suzuki\",\n",
        "    \"model\" : \"Dzire\",\n",
        "    \"year\" : 2020\n",
        "}\n",
        "car.pop(\"model\")\n",
        "print(car)"
      ],
      "metadata": {
        "colab": {
          "base_uri": "https://localhost:8080/"
        },
        "id": "eHFnTajVlHGB",
        "outputId": "db07bc9d-b434-496d-e0a4-988076c1cde2"
      },
      "execution_count": 45,
      "outputs": [
        {
          "output_type": "stream",
          "name": "stdout",
          "text": [
            "{'Brand': 'Maruthi suzuki', 'year': 2020}\n"
          ]
        }
      ]
    },
    {
      "cell_type": "code",
      "source": [
        "car = {\n",
        "    \"Brand\" : \"Maruthi suzuki\",\n",
        "    \"model\" : \"Dzire\",\n",
        "    \"year\" : 2020\n",
        "}\n",
        "car.popitem()\n",
        "print(car)"
      ],
      "metadata": {
        "colab": {
          "base_uri": "https://localhost:8080/"
        },
        "id": "nyTXIhk7lnO-",
        "outputId": "d09765d3-ac14-4614-d39b-1f990c29da17"
      },
      "execution_count": 46,
      "outputs": [
        {
          "output_type": "stream",
          "name": "stdout",
          "text": [
            "{'Brand': 'Maruthi suzuki', 'model': 'Dzire'}\n"
          ]
        }
      ]
    },
    {
      "cell_type": "code",
      "source": [
        "car = {\n",
        "    \"Brand\" : \"Maruthi suzuki\",\n",
        "    \"model\" : \"Dzire\",\n",
        "    \"year\" : 2020\n",
        "}\n",
        "del car[\"model\"]\n",
        "print(car)"
      ],
      "metadata": {
        "colab": {
          "base_uri": "https://localhost:8080/"
        },
        "id": "NEZSDX7Zl16S",
        "outputId": "304bbf25-cadf-4f91-824b-e665478e9663"
      },
      "execution_count": 47,
      "outputs": [
        {
          "output_type": "stream",
          "name": "stdout",
          "text": [
            "{'Brand': 'Maruthi suzuki', 'year': 2020}\n"
          ]
        }
      ]
    },
    {
      "cell_type": "code",
      "source": [
        "car = {\n",
        "    \"Brand\" : \"Maruthi suzuki\",\n",
        "    \"model\" : \"Dzire\",\n",
        "    \"year\" : 2020\n",
        "}\n",
        "del car\n",
        "print(car)"
      ],
      "metadata": {
        "colab": {
          "base_uri": "https://localhost:8080/",
          "height": 210
        },
        "id": "VxoD6_QpmB37",
        "outputId": "e89097e6-bbdc-4f81-b5ef-8556ee34c4c5"
      },
      "execution_count": 48,
      "outputs": [
        {
          "output_type": "error",
          "ename": "NameError",
          "evalue": "ignored",
          "traceback": [
            "\u001b[0;31m---------------------------------------------------------------------------\u001b[0m",
            "\u001b[0;31mNameError\u001b[0m                                 Traceback (most recent call last)",
            "\u001b[0;32m<ipython-input-48-d84e59841091>\u001b[0m in \u001b[0;36m<cell line: 7>\u001b[0;34m()\u001b[0m\n\u001b[1;32m      5\u001b[0m }\n\u001b[1;32m      6\u001b[0m \u001b[0;32mdel\u001b[0m \u001b[0mcar\u001b[0m\u001b[0;34m\u001b[0m\u001b[0;34m\u001b[0m\u001b[0m\n\u001b[0;32m----> 7\u001b[0;31m \u001b[0mprint\u001b[0m\u001b[0;34m(\u001b[0m\u001b[0mcar\u001b[0m\u001b[0;34m)\u001b[0m\u001b[0;34m\u001b[0m\u001b[0;34m\u001b[0m\u001b[0m\n\u001b[0m",
            "\u001b[0;31mNameError\u001b[0m: name 'car' is not defined"
          ]
        }
      ]
    },
    {
      "cell_type": "code",
      "source": [
        "car = {\n",
        "    \"Brand\" : \"Maruthi suzuki\",\n",
        "    \"model\" : \"Dzire\",\n",
        "    \"year\" : 2020\n",
        "}\n",
        "car.clear()\n",
        "print(car)"
      ],
      "metadata": {
        "colab": {
          "base_uri": "https://localhost:8080/"
        },
        "id": "KJJUNJqpmQRp",
        "outputId": "bcfdcd3c-b948-44ae-f1d0-37db73c50be0"
      },
      "execution_count": 49,
      "outputs": [
        {
          "output_type": "stream",
          "name": "stdout",
          "text": [
            "{}\n"
          ]
        }
      ]
    },
    {
      "cell_type": "markdown",
      "source": [
        "* ***Dictionary using loops***"
      ],
      "metadata": {
        "id": "PCea4so5ozDc"
      }
    },
    {
      "cell_type": "code",
      "source": [
        "car = {\n",
        "    \"Brand\" : \"Maruthi suzuki\",\n",
        "    \"model\" : \"Dzire\",\n",
        "    \"year\" : 2020\n",
        "}\n",
        "for x in car:\n",
        "  print(x)"
      ],
      "metadata": {
        "colab": {
          "base_uri": "https://localhost:8080/"
        },
        "id": "Px35SbCLm1MO",
        "outputId": "172a89f5-4c28-4648-b5d0-1fbdfe66cc21"
      },
      "execution_count": 50,
      "outputs": [
        {
          "output_type": "stream",
          "name": "stdout",
          "text": [
            "Brand\n",
            "model\n",
            "year\n"
          ]
        }
      ]
    },
    {
      "cell_type": "code",
      "source": [
        "car = {\n",
        "    \"Brand\" : \"Maruthi suzuki\",\n",
        "    \"model\" : \"Dzire\",\n",
        "    \"year\" : 2020\n",
        "}\n",
        "for x in car:\n",
        "  print(car[x])"
      ],
      "metadata": {
        "colab": {
          "base_uri": "https://localhost:8080/"
        },
        "id": "bIrmvXWTm8k5",
        "outputId": "1511fc0e-1454-44dc-e07c-762486038965"
      },
      "execution_count": 51,
      "outputs": [
        {
          "output_type": "stream",
          "name": "stdout",
          "text": [
            "Maruthi suzuki\n",
            "Dzire\n",
            "2020\n"
          ]
        }
      ]
    },
    {
      "cell_type": "code",
      "source": [
        "car = {\n",
        "    \"Brand\" : \"Maruthi suzuki\",\n",
        "    \"model\" : \"Dzire\",\n",
        "    \"year\" : 2020\n",
        "}\n",
        "for x in car.keys():\n",
        "  print(x)"
      ],
      "metadata": {
        "colab": {
          "base_uri": "https://localhost:8080/"
        },
        "id": "W2V1y27LnGo6",
        "outputId": "46476932-2d67-4449-c326-e79483d3af6e"
      },
      "execution_count": 52,
      "outputs": [
        {
          "output_type": "stream",
          "name": "stdout",
          "text": [
            "Brand\n",
            "model\n",
            "year\n"
          ]
        }
      ]
    },
    {
      "cell_type": "code",
      "source": [
        "car = {\n",
        "    \"Brand\" : \"Maruthi suzuki\",\n",
        "    \"model\" : \"Dzire\",\n",
        "    \"year\" : 2020\n",
        "}\n",
        "for x in car.values():\n",
        "  print(x)"
      ],
      "metadata": {
        "colab": {
          "base_uri": "https://localhost:8080/"
        },
        "id": "D2Fbbov1nM3x",
        "outputId": "08f2cd91-da58-4555-ddbf-97c99899a571"
      },
      "execution_count": 53,
      "outputs": [
        {
          "output_type": "stream",
          "name": "stdout",
          "text": [
            "Maruthi suzuki\n",
            "Dzire\n",
            "2020\n"
          ]
        }
      ]
    },
    {
      "cell_type": "code",
      "source": [
        "car = {\n",
        "    \"Brand\" : \"Maruthi suzuki\",\n",
        "    \"model\" : \"Dzire\",\n",
        "    \"year\" : 2020\n",
        "}\n",
        "for x, y in car.items():\n",
        "  print(x, y)"
      ],
      "metadata": {
        "colab": {
          "base_uri": "https://localhost:8080/"
        },
        "id": "0gqr-m59nUHD",
        "outputId": "f74150a4-3c94-489a-c664-484a827ce3cc"
      },
      "execution_count": 56,
      "outputs": [
        {
          "output_type": "stream",
          "name": "stdout",
          "text": [
            "Brand Maruthi suzuki\n",
            "model Dzire\n",
            "year 2020\n"
          ]
        }
      ]
    },
    {
      "cell_type": "markdown",
      "source": [
        "* ***COPY METHOD***"
      ],
      "metadata": {
        "id": "pq2VtmImpIq7"
      }
    },
    {
      "cell_type": "code",
      "source": [
        "car = {\n",
        "    \"Brand\" : \"Maruthi suzuki\",\n",
        "    \"model\" : \"Dzire\",\n",
        "    \"year\" : 2020\n",
        "}\n",
        "mydict = car.copy()\n",
        "print(mydict)"
      ],
      "metadata": {
        "colab": {
          "base_uri": "https://localhost:8080/"
        },
        "id": "tFAAybXrnri-",
        "outputId": "f5e81afd-ba11-46da-94ae-b7ef8aace4e2"
      },
      "execution_count": 57,
      "outputs": [
        {
          "output_type": "stream",
          "name": "stdout",
          "text": [
            "{'Brand': 'Maruthi suzuki', 'model': 'Dzire', 'year': 2020}\n"
          ]
        }
      ]
    },
    {
      "cell_type": "code",
      "source": [
        "car = {\n",
        "    \"Brand\" : \"Maruthi suzuki\",\n",
        "    \"model\" : \"Dzire\",\n",
        "    \"year\" : 2020\n",
        "}\n",
        "mydict = car\n",
        "print(mydict)"
      ],
      "metadata": {
        "colab": {
          "base_uri": "https://localhost:8080/"
        },
        "id": "GBfYb-zln2En",
        "outputId": "4a87e413-a49d-4815-bbe7-92ab4afbd130"
      },
      "execution_count": 58,
      "outputs": [
        {
          "output_type": "stream",
          "name": "stdout",
          "text": [
            "{'Brand': 'Maruthi suzuki', 'model': 'Dzire', 'year': 2020}\n"
          ]
        }
      ]
    },
    {
      "cell_type": "code",
      "source": [
        "car = {\n",
        "    \"Brand\" : \"Maruthi suzuki\",\n",
        "    \"model\" : \"Dzire\",\n",
        "    \"year\" : 2020\n",
        "}\n",
        "mydict=dict(car)\n",
        "print(mydict)"
      ],
      "metadata": {
        "colab": {
          "base_uri": "https://localhost:8080/"
        },
        "id": "MxDnk3q9oDyd",
        "outputId": "1be5531c-5642-44e8-b9da-c4f5f5ef6687"
      },
      "execution_count": 59,
      "outputs": [
        {
          "output_type": "stream",
          "name": "stdout",
          "text": [
            "{'Brand': 'Maruthi suzuki', 'model': 'Dzire', 'year': 2020}\n"
          ]
        }
      ]
    },
    {
      "cell_type": "markdown",
      "source": [
        "* ***NESTED DICTIONARY***"
      ],
      "metadata": {
        "id": "BEAqICykpQmq"
      }
    },
    {
      "cell_type": "code",
      "source": [
        "std_details={\n",
        "    \"saikrishna\":{\n",
        "        \"phone\":\"8247872408\",\n",
        "        \"email\":\"saikrishna@gmail.com\"\n",
        "    },\n",
        "    \"govardhan\":{\n",
        "        \"phone\":\"6302626746\",\n",
        "        \"email\":\"govardhan@gmail.com\"\n",
        "    }\n",
        "}\n",
        "for student in std_details:\n",
        "  print(\"{}'s contact info:\".format(student))\n",
        "  print(std_details[student][\"phone\"])\n",
        "  print(std_details[student][\"email\"])"
      ],
      "metadata": {
        "colab": {
          "base_uri": "https://localhost:8080/"
        },
        "id": "RkaXmrC-pawR",
        "outputId": "928cb7da-6e67-4159-fbbf-82dcba4b60a7"
      },
      "execution_count": 60,
      "outputs": [
        {
          "output_type": "stream",
          "name": "stdout",
          "text": [
            "saikrishna's contact info:\n",
            "8247872408\n",
            "saikrishna@gmail.com\n",
            "govardhan's contact info:\n",
            "6302626746\n",
            "govardhan@gmail.com\n"
          ]
        }
      ]
    },
    {
      "cell_type": "code",
      "source": [
        "myfamily = {\n",
        "  \"child1\" : {\n",
        "    \"name\" : \"Emil\",\n",
        "    \"year\" : 2004\n",
        "  },\n",
        "  \"child2\" : {\n",
        "    \"name\" : \"Tobias\",\n",
        "    \"year\" : 2007\n",
        "  },\n",
        "  \"child3\" : {\n",
        "    \"name\" : \"Linus\",\n",
        "    \"year\" : 2011\n",
        "  }\n",
        "}\n",
        "\n",
        "print(myfamily)\n"
      ],
      "metadata": {
        "colab": {
          "base_uri": "https://localhost:8080/"
        },
        "id": "VXrVguUPpdbY",
        "outputId": "f782bc22-fa19-451c-b71d-3149c91cd611"
      },
      "execution_count": 61,
      "outputs": [
        {
          "output_type": "stream",
          "name": "stdout",
          "text": [
            "{'child1': {'name': 'Emil', 'year': 2004}, 'child2': {'name': 'Tobias', 'year': 2007}, 'child3': {'name': 'Linus', 'year': 2011}}\n"
          ]
        }
      ]
    },
    {
      "cell_type": "code",
      "source": [
        "child1 = {\n",
        "  \"name\" : \"Emil\",\n",
        "  \"year\" : 2004\n",
        "}\n",
        "child2 = {\n",
        "  \"name\" : \"Tobias\",\n",
        "  \"year\" : 2007\n",
        "}\n",
        "child3 = {\n",
        "  \"name\" : \"Linus\",\n",
        "  \"year\" : 2011\n",
        "}\n",
        "\n",
        "myfamily = {\n",
        "  \"child1\" : child1,\n",
        "  \"child2\" : child2,\n",
        "  \"child3\" : child3\n",
        "}\n",
        "print(myfamily)"
      ],
      "metadata": {
        "colab": {
          "base_uri": "https://localhost:8080/"
        },
        "id": "UzzoqGMipuoL",
        "outputId": "ebcaa698-3ced-4076-dabd-6e5d25c55be9"
      },
      "execution_count": 62,
      "outputs": [
        {
          "output_type": "stream",
          "name": "stdout",
          "text": [
            "{'child1': {'name': 'Emil', 'year': 2004}, 'child2': {'name': 'Tobias', 'year': 2007}, 'child3': {'name': 'Linus', 'year': 2011}}\n"
          ]
        }
      ]
    },
    {
      "cell_type": "code",
      "source": [
        "myfamily = {\n",
        "  \"child1\" : {\n",
        "    \"name\" : \"Emil\",\n",
        "    \"year\" : 2004\n",
        "  },\n",
        "  \"child2\" : {\n",
        "    \"name\" : \"Tobias\",\n",
        "    \"year\" : 2007\n",
        "  },\n",
        "  \"child3\" : {\n",
        "    \"name\" : \"Linus\",\n",
        "    \"year\" : 2011\n",
        "  }\n",
        "}\n",
        "\n",
        "print(myfamily[\"child3\"][\"name\"])"
      ],
      "metadata": {
        "colab": {
          "base_uri": "https://localhost:8080/"
        },
        "id": "-aNkZjHmp5F3",
        "outputId": "6a222010-f07e-4557-d611-688e43e7c74d"
      },
      "execution_count": 63,
      "outputs": [
        {
          "output_type": "stream",
          "name": "stdout",
          "text": [
            "Linus\n"
          ]
        }
      ]
    },
    {
      "cell_type": "code",
      "source": [
        "myfamily = {\n",
        "  \"child1\" : {\n",
        "    \"name\" : \"Emil\",\n",
        "    \"year\" : 2004\n",
        "  },\n",
        "  \"child2\" : {\n",
        "    \"name\" : \"Tobias\",\n",
        "    \"year\" : 2007\n",
        "  },\n",
        "  \"child3\" : {\n",
        "    \"name\" : \"Linus\",\n",
        "    \"year\" : 2011\n",
        "  }\n",
        "}\n",
        "for family in myfamily:\n",
        "  print(myfamily[family][\"name\"])\n"
      ],
      "metadata": {
        "colab": {
          "base_uri": "https://localhost:8080/"
        },
        "id": "eZVUP1AdqQBE",
        "outputId": "73522c09-accd-4972-b73c-a8e155dda778"
      },
      "execution_count": 64,
      "outputs": [
        {
          "output_type": "stream",
          "name": "stdout",
          "text": [
            "Emil\n",
            "Tobias\n",
            "Linus\n"
          ]
        }
      ]
    },
    {
      "cell_type": "code",
      "source": [
        "myfamily = {\n",
        "  \"child1\" : {\n",
        "    \"name\" : \"Emil\",\n",
        "    \"year\" : 2004\n",
        "  },\n",
        "  \"child2\" : {\n",
        "    \"name\" : \"Tobias\",\n",
        "    \"year\" : 2007\n",
        "  },\n",
        "  \"child3\" : {\n",
        "    \"name\" : \"Linus\",\n",
        "    \"year\" : 2011\n",
        "  }\n",
        "}\n",
        "for family in myfamily:\n",
        "  print(myfamily[family][\"year\"])\n"
      ],
      "metadata": {
        "colab": {
          "base_uri": "https://localhost:8080/"
        },
        "id": "M_tJBkklqoR0",
        "outputId": "5eb61139-487b-4dbf-ac96-cc69f2f7e1d8"
      },
      "execution_count": 65,
      "outputs": [
        {
          "output_type": "stream",
          "name": "stdout",
          "text": [
            "2004\n",
            "2007\n",
            "2011\n"
          ]
        }
      ]
    },
    {
      "cell_type": "code",
      "source": [
        "myfamily = {\n",
        "  \"child1\" : {\n",
        "    \"name\" : \"Emil\",\n",
        "    \"year\" : 2004\n",
        "  },\n",
        "  \"child2\" : {\n",
        "    \"name\" : \"Tobias\",\n",
        "    \"year\" : 2007\n",
        "  },\n",
        "  \"child3\" : {\n",
        "    \"name\" : \"Linus\",\n",
        "    \"year\" : 2011\n",
        "  }\n",
        "}\n",
        "x=child1.get(\"name\")\n",
        "print(x)\n"
      ],
      "metadata": {
        "colab": {
          "base_uri": "https://localhost:8080/"
        },
        "id": "w3gaBptNq5gO",
        "outputId": "fdcb1182-7cb4-4e67-e644-6dc8b11ef0a3"
      },
      "execution_count": 69,
      "outputs": [
        {
          "output_type": "stream",
          "name": "stdout",
          "text": [
            "Emil\n"
          ]
        }
      ]
    },
    {
      "cell_type": "code",
      "source": [
        " x=(\"brand\", \"model\", \"year\")\n",
        "y=(\"maruthisuzuki\", \"dzire\", \"2023\")\n",
        "car = dict.fromkeys(x, y)\n",
        "print(car)"
      ],
      "metadata": {
        "colab": {
          "base_uri": "https://localhost:8080/"
        },
        "id": "OpregOskr1GS",
        "outputId": "7045c30f-a115-4fe7-b7be-209170e995c3"
      },
      "execution_count": 73,
      "outputs": [
        {
          "output_type": "stream",
          "name": "stdout",
          "text": [
            "{'brand': ('maruthisuzuki', 'dzire', '2023'), 'model': ('maruthisuzuki', 'dzire', '2023'), 'year': ('maruthisuzuki', 'dzire', '2023')}\n"
          ]
        }
      ]
    },
    {
      "cell_type": "code",
      "source": [
        "x=(\"brand\", \"model\", \"year\")\n",
        "y=0\n",
        "car = dict.fromkeys(x, y)\n",
        "print(car)"
      ],
      "metadata": {
        "colab": {
          "base_uri": "https://localhost:8080/"
        },
        "id": "8Y0bvFohstM2",
        "outputId": "39e0bff6-8883-4edd-d2b4-776f9a874c13"
      },
      "execution_count": 72,
      "outputs": [
        {
          "output_type": "stream",
          "name": "stdout",
          "text": [
            "{'brand': 0, 'model': 0, 'year': 0}\n"
          ]
        }
      ]
    }
  ]
}