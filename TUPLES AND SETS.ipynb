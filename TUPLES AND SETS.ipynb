{
  "nbformat": 4,
  "nbformat_minor": 0,
  "metadata": {
    "colab": {
      "provenance": [],
      "authorship_tag": "ABX9TyPS0b2vFDZVxkVTTn/TwS5Y",
      "include_colab_link": true
    },
    "kernelspec": {
      "name": "python3",
      "display_name": "Python 3"
    },
    "language_info": {
      "name": "python"
    }
  },
  "cells": [
    {
      "cell_type": "markdown",
      "metadata": {
        "id": "view-in-github",
        "colab_type": "text"
      },
      "source": [
        "<a href=\"https://colab.research.google.com/github/VeeramalluVinayak/VINAYAK/blob/main/TUPLES%20AND%20SETS.ipynb\" target=\"_parent\"><img src=\"https://colab.research.google.com/assets/colab-badge.svg\" alt=\"Open In Colab\"/></a>"
      ]
    },
    {
      "cell_type": "markdown",
      "source": [
        "* ***TUPLES***"
      ],
      "metadata": {
        "id": "pJ-dTWf8Cf-N"
      }
    },
    {
      "cell_type": "markdown",
      "source": [
        "-> A Tuple is an collection of data.\n",
        "\n",
        "-> Tuple is an immutable.\n",
        "\n",
        "-> A tuple are ordered.\n",
        "\n",
        "-> Values access by index.\n",
        "\n",
        "-> It is accesed by Iteration,looping and concatination.\n",
        "\n",
        "-> Use when data should not change.\n",
        "\n",
        "-> Tuple are denoted as paranthesis().\n",
        "\n",
        "-> It allow duplicates values."
      ],
      "metadata": {
        "id": "JhBdG_AuCrV0"
      }
    },
    {
      "cell_type": "code",
      "source": [
        "games = (\"pubg\",\"freefire\",\"vicecity\",\"callofduty\")\n",
        "print(games)"
      ],
      "metadata": {
        "colab": {
          "base_uri": "https://localhost:8080/"
        },
        "id": "qGX4uPPzD4Cd",
        "outputId": "e5127eec-8fc4-41e5-a28c-e5a7756688eb"
      },
      "execution_count": null,
      "outputs": [
        {
          "output_type": "stream",
          "name": "stdout",
          "text": [
            "('pubg', 'freefire', 'vicecity', 'callofduty')\n"
          ]
        }
      ]
    },
    {
      "cell_type": "code",
      "source": [
        "print(type(games))"
      ],
      "metadata": {
        "colab": {
          "base_uri": "https://localhost:8080/"
        },
        "id": "B9e7m8LsE0d2",
        "outputId": "529c560f-97f0-40f2-80c1-b28dbda89253"
      },
      "execution_count": null,
      "outputs": [
        {
          "output_type": "stream",
          "name": "stdout",
          "text": [
            "<class 'tuple'>\n"
          ]
        }
      ]
    },
    {
      "cell_type": "code",
      "source": [
        "new_games=list(games)\n",
        "print(\"the games is {}.\".format(type(games)))\n",
        "print(\"The new games is {}.\".format(type(new_games)))"
      ],
      "metadata": {
        "colab": {
          "base_uri": "https://localhost:8080/"
        },
        "id": "8z_WlhnSFIkG",
        "outputId": "6ecb39d7-b0af-4c2b-eb13-575e4268a9ba"
      },
      "execution_count": null,
      "outputs": [
        {
          "output_type": "stream",
          "name": "stdout",
          "text": [
            "the games is <class 'tuple'>.\n",
            "The new games is <class 'list'>.\n"
          ]
        }
      ]
    },
    {
      "cell_type": "code",
      "source": [
        "for pubg in games:\n",
        "  print(pubg)"
      ],
      "metadata": {
        "colab": {
          "base_uri": "https://localhost:8080/"
        },
        "id": "QYGzPimcGdKn",
        "outputId": "58108949-e9db-443e-f7ac-e8e270cfea4a"
      },
      "execution_count": null,
      "outputs": [
        {
          "output_type": "stream",
          "name": "stdout",
          "text": [
            "pubg\n",
            "freefire\n",
            "vicecity\n",
            "callofduty\n"
          ]
        }
      ]
    },
    {
      "cell_type": "code",
      "source": [
        "def high_and_low(numbers):\n",
        "  highest = max(numbers)\n",
        "  lowest = min(numbers)\n",
        "  return(highest, lowest)\n",
        "lottery_numbers = (11,4,16,42,53,24)\n",
        "(highest, lowest)=high_and_low(lottery_numbers)\n",
        "print(\"The highest number is:{}.\".format(highest))\n",
        "print(\"The lowest number is:{}.\".format(lowest))"
      ],
      "metadata": {
        "colab": {
          "base_uri": "https://localhost:8080/"
        },
        "id": "gY5H9R-ZGr_Q",
        "outputId": "a28edecc-4f84-47a4-9baa-1a9db5952822"
      },
      "execution_count": null,
      "outputs": [
        {
          "output_type": "stream",
          "name": "stdout",
          "text": [
            "The highest number is:53.\n",
            "The lowest number is:4.\n"
          ]
        }
      ]
    },
    {
      "cell_type": "code",
      "source": [
        "games = (\"pubg\",\"freefire\",\"vicecity\",\"pubg\",\"callofduty\")\n",
        "print(games)"
      ],
      "metadata": {
        "colab": {
          "base_uri": "https://localhost:8080/"
        },
        "id": "lhljHZFZqMsb",
        "outputId": "f69aba99-95c7-4d38-97dd-b4dda2743922"
      },
      "execution_count": 1,
      "outputs": [
        {
          "output_type": "stream",
          "name": "stdout",
          "text": [
            "('pubg', 'freefire', 'vicecity', 'pubg', 'callofduty')\n"
          ]
        }
      ]
    },
    {
      "cell_type": "code",
      "source": [
        "games = (\"pubg\",)\n",
        "print(type(games))\n",
        "\n",
        "#NOt a tuple.\n",
        "games = (\"pubg\")\n",
        "print(type(games))"
      ],
      "metadata": {
        "colab": {
          "base_uri": "https://localhost:8080/"
        },
        "id": "trAPEPazq_2K",
        "outputId": "1f5e43d7-338c-48d0-e034-1f73f98336e8"
      },
      "execution_count": 3,
      "outputs": [
        {
          "output_type": "stream",
          "name": "stdout",
          "text": [
            "<class 'tuple'>\n",
            "<class 'str'>\n"
          ]
        }
      ]
    },
    {
      "cell_type": "code",
      "source": [
        "games = tuple((\"pubg\",\"freefire\",\"vicecity\",\"callofduty\"))\n",
        "print(games)"
      ],
      "metadata": {
        "colab": {
          "base_uri": "https://localhost:8080/"
        },
        "id": "6AesJBbWr5xw",
        "outputId": "d997e819-9c80-4c5a-85b1-317f065c4abb"
      },
      "execution_count": 4,
      "outputs": [
        {
          "output_type": "stream",
          "name": "stdout",
          "text": [
            "('pubg', 'freefire', 'vicecity', 'callofduty')\n"
          ]
        }
      ]
    },
    {
      "cell_type": "code",
      "source": [
        "games = (\"pubg\",\"freefire\",\"vicecity\",\"callofduty\")\n",
        "print(games[2])"
      ],
      "metadata": {
        "colab": {
          "base_uri": "https://localhost:8080/"
        },
        "id": "95BN_AZisKUB",
        "outputId": "854d2e6a-b50a-4288-c12f-f679da7032c6"
      },
      "execution_count": 5,
      "outputs": [
        {
          "output_type": "stream",
          "name": "stdout",
          "text": [
            "vicecity\n"
          ]
        }
      ]
    },
    {
      "cell_type": "code",
      "source": [
        "games = (\"pubg\",\"freefire\",\"vicecity\",\"callofduty\")\n",
        "print(games[-1])"
      ],
      "metadata": {
        "colab": {
          "base_uri": "https://localhost:8080/"
        },
        "id": "QY0bxWQDsQbd",
        "outputId": "28934fe5-dd0d-4277-a7cb-a656c445b76d"
      },
      "execution_count": 6,
      "outputs": [
        {
          "output_type": "stream",
          "name": "stdout",
          "text": [
            "callofduty\n"
          ]
        }
      ]
    },
    {
      "cell_type": "code",
      "source": [
        "games = (\"pubg\",\"freefire\",\"vicecity\",\"callofduty\")\n",
        "print(games[1:3])"
      ],
      "metadata": {
        "colab": {
          "base_uri": "https://localhost:8080/"
        },
        "id": "Zgk_h0wgsYQn",
        "outputId": "5b8d9f3d-80bd-4f04-f4f8-62769b50aae3"
      },
      "execution_count": 7,
      "outputs": [
        {
          "output_type": "stream",
          "name": "stdout",
          "text": [
            "('freefire', 'vicecity')\n"
          ]
        }
      ]
    },
    {
      "cell_type": "code",
      "source": [
        "games = (\"pubg\",\"freefire\",\"vicecity\",\"callofduty\")\n",
        "print(games[0:4])"
      ],
      "metadata": {
        "colab": {
          "base_uri": "https://localhost:8080/"
        },
        "id": "wEAsKcXxse3k",
        "outputId": "32f60a46-ce95-4a18-c652-1d5387d1aa40"
      },
      "execution_count": 8,
      "outputs": [
        {
          "output_type": "stream",
          "name": "stdout",
          "text": [
            "('pubg', 'freefire', 'vicecity', 'callofduty')\n"
          ]
        }
      ]
    },
    {
      "cell_type": "code",
      "source": [
        "games = (\"pubg\",\"freefire\",\"vicecity\",\"callofduty\",\"subway surfs\",\"Temple run\",\"Truck simulator\")\n",
        "print(games[:4])"
      ],
      "metadata": {
        "colab": {
          "base_uri": "https://localhost:8080/"
        },
        "id": "RvWqg66nsjo2",
        "outputId": "13a63318-b9a6-4f02-80b8-025bc0904c4c"
      },
      "execution_count": 9,
      "outputs": [
        {
          "output_type": "stream",
          "name": "stdout",
          "text": [
            "('pubg', 'freefire', 'vicecity', 'callofduty')\n"
          ]
        }
      ]
    },
    {
      "cell_type": "code",
      "source": [
        "games = (\"pubg\",\"freefire\",\"vicecity\",\"callofduty\",\"subway surfs\",\"Temple run\",\"Truck simulator\")\n",
        "print(games[-4:])"
      ],
      "metadata": {
        "colab": {
          "base_uri": "https://localhost:8080/"
        },
        "id": "m7hazn20tFgk",
        "outputId": "4cdc4224-c56d-4a20-eeb2-d84535e7b8d9"
      },
      "execution_count": 10,
      "outputs": [
        {
          "output_type": "stream",
          "name": "stdout",
          "text": [
            "('callofduty', 'subway surfs', 'Temple run', 'Truck simulator')\n"
          ]
        }
      ]
    },
    {
      "cell_type": "code",
      "source": [
        "games = (\"pubg\",\"freefire\",\"vicecity\",\"callofduty\",\"subway surfs\",\"Temple run\",\"Truck simulator\")\n",
        "print(games[2:])"
      ],
      "metadata": {
        "colab": {
          "base_uri": "https://localhost:8080/"
        },
        "id": "bDEvKqt5tSl9",
        "outputId": "8b17036e-c4e4-41a0-ea4e-7d90268c31e2"
      },
      "execution_count": 11,
      "outputs": [
        {
          "output_type": "stream",
          "name": "stdout",
          "text": [
            "('vicecity', 'callofduty', 'subway surfs', 'Temple run', 'Truck simulator')\n"
          ]
        }
      ]
    },
    {
      "cell_type": "code",
      "source": [
        "games = (\"pubg\",\"freefire\",\"vicecity\",\"callofduty\",\"subway surfs\",\"Temple run\",\"Truck simulator\")\n",
        "print(games[-7:-2])"
      ],
      "metadata": {
        "colab": {
          "base_uri": "https://localhost:8080/"
        },
        "id": "ARWZq1KptbZb",
        "outputId": "1407dd4e-e4a5-4956-c096-41d969eee851"
      },
      "execution_count": 14,
      "outputs": [
        {
          "output_type": "stream",
          "name": "stdout",
          "text": [
            "('pubg', 'freefire', 'vicecity', 'callofduty', 'subway surfs')\n"
          ]
        }
      ]
    },
    {
      "cell_type": "code",
      "source": [
        "games = (\"pubg\",\"freefire\",\"vicecity\",\"callofduty\",\"subway surfs\",\"Temple run\",\"Truck simulator\")\n",
        "print(games[-6:-1])"
      ],
      "metadata": {
        "colab": {
          "base_uri": "https://localhost:8080/"
        },
        "id": "iWFGzqDvt_qO",
        "outputId": "75d23838-fe31-4e2b-88a9-a60b9febfd02"
      },
      "execution_count": 15,
      "outputs": [
        {
          "output_type": "stream",
          "name": "stdout",
          "text": [
            "('freefire', 'vicecity', 'callofduty', 'subway surfs', 'Temple run')\n"
          ]
        }
      ]
    },
    {
      "cell_type": "code",
      "source": [
        "games = (\"pubg\",\"freefire\",\"vicecity\",\"callofduty\",\"subway surfs\",\"Temple run\",\"Truck simulator\")\n",
        "if \"pubg\" in games:\n",
        "  print(\"yes, pubg is in games tuple\")"
      ],
      "metadata": {
        "colab": {
          "base_uri": "https://localhost:8080/"
        },
        "id": "n8vpgB0HuHvx",
        "outputId": "046a20a4-46b4-4843-8581-dd69bc2d14b3"
      },
      "execution_count": 17,
      "outputs": [
        {
          "output_type": "stream",
          "name": "stdout",
          "text": [
            "yes, pubg is in games tuple\n"
          ]
        }
      ]
    },
    {
      "cell_type": "code",
      "source": [
        "games = (\"pubg\",\"freefire\",\"vicecity\",\"callofduty\",\"subway surfs\",\"Temple run\",\"Truck simulator\")\n",
        "if \"Bus simulator\" in games:\n",
        "  print(\"yes, Bus simulator is in tuple\")"
      ],
      "metadata": {
        "id": "bllk4imauhUx"
      },
      "execution_count": 18,
      "outputs": []
    },
    {
      "cell_type": "code",
      "source": [
        "games = (\"pubg\",\"freefire\",\"vicecity\",\"callofduty\",\"subway surfs\",\"Temple run\",\"Truck simulator\")\n",
        "if \"Bus simulator\" in games:\n",
        "  print(\"yes, Bus simulator is in tuple\")\n",
        "else:\n",
        "  print(\"No, Bus simulator is not in tuple\")"
      ],
      "metadata": {
        "colab": {
          "base_uri": "https://localhost:8080/"
        },
        "id": "3mHuDajlvYhx",
        "outputId": "ce5d1dba-ebb2-4a50-d1c3-06fa099e9f31"
      },
      "execution_count": 19,
      "outputs": [
        {
          "output_type": "stream",
          "name": "stdout",
          "text": [
            "No, Bus simulator is not in tuple\n"
          ]
        }
      ]
    },
    {
      "cell_type": "code",
      "source": [
        "games = (\"pubg\",\"freefire\",\"vicecity\",\"callofduty\",\"subway surfs\",\"Temple run\",\"Truck simulator\")\n",
        "games[4]=\"bus simulator\"\n",
        "print(games)"
      ],
      "metadata": {
        "colab": {
          "base_uri": "https://localhost:8080/",
          "height": 210
        },
        "id": "8hTtY3_9vm_v",
        "outputId": "5ee716ca-b8dd-44c5-a446-fe294fc30d4a"
      },
      "execution_count": 20,
      "outputs": [
        {
          "output_type": "error",
          "ename": "TypeError",
          "evalue": "ignored",
          "traceback": [
            "\u001b[0;31m---------------------------------------------------------------------------\u001b[0m",
            "\u001b[0;31mTypeError\u001b[0m                                 Traceback (most recent call last)",
            "\u001b[0;32m<ipython-input-20-a943dc71b498>\u001b[0m in \u001b[0;36m<cell line: 2>\u001b[0;34m()\u001b[0m\n\u001b[1;32m      1\u001b[0m \u001b[0mgames\u001b[0m \u001b[0;34m=\u001b[0m \u001b[0;34m(\u001b[0m\u001b[0;34m\"pubg\"\u001b[0m\u001b[0;34m,\u001b[0m\u001b[0;34m\"freefire\"\u001b[0m\u001b[0;34m,\u001b[0m\u001b[0;34m\"vicecity\"\u001b[0m\u001b[0;34m,\u001b[0m\u001b[0;34m\"callofduty\"\u001b[0m\u001b[0;34m,\u001b[0m\u001b[0;34m\"subway surfs\"\u001b[0m\u001b[0;34m,\u001b[0m\u001b[0;34m\"Temple run\"\u001b[0m\u001b[0;34m,\u001b[0m\u001b[0;34m\"Truck simulator\"\u001b[0m\u001b[0;34m)\u001b[0m\u001b[0;34m\u001b[0m\u001b[0;34m\u001b[0m\u001b[0m\n\u001b[0;32m----> 2\u001b[0;31m \u001b[0mgames\u001b[0m\u001b[0;34m[\u001b[0m\u001b[0;36m4\u001b[0m\u001b[0;34m]\u001b[0m\u001b[0;34m=\u001b[0m\u001b[0;34m\"bus simulator\"\u001b[0m\u001b[0;34m\u001b[0m\u001b[0;34m\u001b[0m\u001b[0m\n\u001b[0m\u001b[1;32m      3\u001b[0m \u001b[0mprint\u001b[0m\u001b[0;34m(\u001b[0m\u001b[0mgames\u001b[0m\u001b[0;34m)\u001b[0m\u001b[0;34m\u001b[0m\u001b[0;34m\u001b[0m\u001b[0m\n",
            "\u001b[0;31mTypeError\u001b[0m: 'tuple' object does not support item assignment"
          ]
        }
      ]
    },
    {
      "cell_type": "code",
      "source": [
        "games = (\"pubg\",\"freefire\",\"vicecity\",\"callofduty\",\"subway surfs\",\"Temple run\",\"Truck simulator\")\n",
        "new_games = list(games)\n",
        "new_games[4] = \"bus simulator\"\n",
        "\n",
        "print(new_games)"
      ],
      "metadata": {
        "colab": {
          "base_uri": "https://localhost:8080/"
        },
        "id": "Lr7pNcH1x8SV",
        "outputId": "e7f86f96-6131-4ea3-d7cd-45fbf4624271"
      },
      "execution_count": 24,
      "outputs": [
        {
          "output_type": "stream",
          "name": "stdout",
          "text": [
            "['pubg', 'freefire', 'vicecity', 'callofduty', 'bus simulator', 'Temple run', 'Truck simulator']\n"
          ]
        }
      ]
    },
    {
      "cell_type": "code",
      "source": [
        "games = (\"pubg\",\"freefire\",\"vicecity\",\"callofduty\",\"subway surfs\",\"Temple run\",\"Truck simulator\")\n",
        "new_games = list(games)\n",
        "new_games[4] = \"bus simulator\"\n",
        "games = tuple(new_games)\n",
        "print(games)"
      ],
      "metadata": {
        "colab": {
          "base_uri": "https://localhost:8080/"
        },
        "id": "XhVrZaHJyRyy",
        "outputId": "b6d2f65a-77a5-48d3-bc88-112e60dda045"
      },
      "execution_count": 23,
      "outputs": [
        {
          "output_type": "stream",
          "name": "stdout",
          "text": [
            "('pubg', 'freefire', 'vicecity', 'callofduty', 'bus simulator', 'Temple run', 'Truck simulator')\n"
          ]
        }
      ]
    },
    {
      "cell_type": "code",
      "source": [
        "games = (\"pubg\",\"freefire\",\"vicecity\",\"callofduty\",\"subway surfs\",\"Temple run\",\"Truck simulator\")\n",
        "new_games = list(games)\n",
        "new_games.append(\"Bus simulator\")\n",
        "games = tuple(new_games)\n",
        "print(games)"
      ],
      "metadata": {
        "colab": {
          "base_uri": "https://localhost:8080/"
        },
        "id": "owLWv0tAyuCk",
        "outputId": "7bf2ab64-8cf6-4ea5-9976-a9fafca4414a"
      },
      "execution_count": 25,
      "outputs": [
        {
          "output_type": "stream",
          "name": "stdout",
          "text": [
            "('pubg', 'freefire', 'vicecity', 'callofduty', 'subway surfs', 'Temple run', 'Truck simulator', 'Bus simulator')\n"
          ]
        }
      ]
    },
    {
      "cell_type": "code",
      "source": [
        "games = (\"pubg\",\"freefire\",\"vicecity\",\"callofduty\",\"subway surfs\",\"Temple run\",\"Truck simulator\")\n",
        "new_games = list(games)\n",
        "new_games.append(\"Bus simulator\")\n",
        "\n",
        "print(new_games)"
      ],
      "metadata": {
        "colab": {
          "base_uri": "https://localhost:8080/"
        },
        "id": "syUHFWuSzAdh",
        "outputId": "239b6078-974b-44a9-a1aa-9bb6fd9c07fa"
      },
      "execution_count": 26,
      "outputs": [
        {
          "output_type": "stream",
          "name": "stdout",
          "text": [
            "['pubg', 'freefire', 'vicecity', 'callofduty', 'subway surfs', 'Temple run', 'Truck simulator', 'Bus simulator']\n"
          ]
        }
      ]
    },
    {
      "cell_type": "code",
      "source": [
        "games = (\"pubg\",\"freefire\",\"vicecity\",\"callofduty\",\"subway surfs\",\"Temple run\",\"Truck simulator\")\n",
        "new_games = (\"bus simulator\",)\n",
        "games += new_games\n",
        "print(games)\n"
      ],
      "metadata": {
        "colab": {
          "base_uri": "https://localhost:8080/"
        },
        "id": "YU74yMEozGyb",
        "outputId": "1e7d2089-dd82-467c-8e94-b067b8431553"
      },
      "execution_count": 27,
      "outputs": [
        {
          "output_type": "stream",
          "name": "stdout",
          "text": [
            "('pubg', 'freefire', 'vicecity', 'callofduty', 'subway surfs', 'Temple run', 'Truck simulator', 'bus simulator')\n"
          ]
        }
      ]
    },
    {
      "cell_type": "code",
      "source": [
        "games = (\"pubg\",\"freefire\",\"vicecity\",\"callofduty\",\"subway surfs\",\"Temple run\",\"Truck simulator\")\n",
        "new_games = list(games)\n",
        "new_games.remove(\"freefire\")\n",
        "games = tuple(new_games)\n",
        "print(games)"
      ],
      "metadata": {
        "colab": {
          "base_uri": "https://localhost:8080/"
        },
        "id": "hDY759iYz_zD",
        "outputId": "28cf1111-1fb7-43b4-d8ae-49c1a81ffb1c"
      },
      "execution_count": 29,
      "outputs": [
        {
          "output_type": "stream",
          "name": "stdout",
          "text": [
            "('pubg', 'vicecity', 'callofduty', 'subway surfs', 'Temple run', 'Truck simulator')\n"
          ]
        }
      ]
    },
    {
      "cell_type": "code",
      "source": [
        "games = (\"pubg\",\"freefire\",\"vicecity\",\"callofduty\",\"subway surfs\",\"Temple run\",\"Truck simulator\")\n",
        "del games\n",
        "print(games)"
      ],
      "metadata": {
        "colab": {
          "base_uri": "https://localhost:8080/",
          "height": 210
        },
        "id": "wu1q1Geu0OC1",
        "outputId": "1a734e92-5253-4db5-fc63-1967d00d67d0"
      },
      "execution_count": 30,
      "outputs": [
        {
          "output_type": "error",
          "ename": "NameError",
          "evalue": "ignored",
          "traceback": [
            "\u001b[0;31m---------------------------------------------------------------------------\u001b[0m",
            "\u001b[0;31mNameError\u001b[0m                                 Traceback (most recent call last)",
            "\u001b[0;32m<ipython-input-30-3ded13d3bdc6>\u001b[0m in \u001b[0;36m<cell line: 3>\u001b[0;34m()\u001b[0m\n\u001b[1;32m      1\u001b[0m \u001b[0mgames\u001b[0m \u001b[0;34m=\u001b[0m \u001b[0;34m(\u001b[0m\u001b[0;34m\"pubg\"\u001b[0m\u001b[0;34m,\u001b[0m\u001b[0;34m\"freefire\"\u001b[0m\u001b[0;34m,\u001b[0m\u001b[0;34m\"vicecity\"\u001b[0m\u001b[0;34m,\u001b[0m\u001b[0;34m\"callofduty\"\u001b[0m\u001b[0;34m,\u001b[0m\u001b[0;34m\"subway surfs\"\u001b[0m\u001b[0;34m,\u001b[0m\u001b[0;34m\"Temple run\"\u001b[0m\u001b[0;34m,\u001b[0m\u001b[0;34m\"Truck simulator\"\u001b[0m\u001b[0;34m)\u001b[0m\u001b[0;34m\u001b[0m\u001b[0;34m\u001b[0m\u001b[0m\n\u001b[1;32m      2\u001b[0m \u001b[0;32mdel\u001b[0m \u001b[0mgames\u001b[0m\u001b[0;34m\u001b[0m\u001b[0;34m\u001b[0m\u001b[0m\n\u001b[0;32m----> 3\u001b[0;31m \u001b[0mprint\u001b[0m\u001b[0;34m(\u001b[0m\u001b[0mgames\u001b[0m\u001b[0;34m)\u001b[0m\u001b[0;34m\u001b[0m\u001b[0;34m\u001b[0m\u001b[0m\n\u001b[0m",
            "\u001b[0;31mNameError\u001b[0m: name 'games' is not defined"
          ]
        }
      ]
    },
    {
      "cell_type": "code",
      "source": [
        "games = (\"pubg\",\"freefire\",\"vicecity\",\"subway surfs\")\n",
        "\n",
        "(a , b, c, d) = games\n",
        "\n",
        "print(a)\n",
        "print(b)\n",
        "print(c)\n",
        "print(d)"
      ],
      "metadata": {
        "colab": {
          "base_uri": "https://localhost:8080/"
        },
        "id": "zP8MdxFv0u6i",
        "outputId": "948329b4-cdf6-4664-9f24-780799abd959"
      },
      "execution_count": 33,
      "outputs": [
        {
          "output_type": "stream",
          "name": "stdout",
          "text": [
            "pubg\n",
            "freefire\n",
            "vicecity\n",
            "subway surfs\n"
          ]
        }
      ]
    },
    {
      "cell_type": "code",
      "source": [
        "games = (\"pubg\",\"freefire\",\"vicecity\",\"subway surfs\")\n",
        "\n",
        "(a , b, c, *d) = games\n",
        "\n",
        "print(a)\n",
        "print(b)\n",
        "print(c)\n",
        "print(d)"
      ],
      "metadata": {
        "colab": {
          "base_uri": "https://localhost:8080/"
        },
        "id": "3Ux1MXTu1tO1",
        "outputId": "39a3bdcf-b55b-45bb-f60b-0c3104585022"
      },
      "execution_count": 34,
      "outputs": [
        {
          "output_type": "stream",
          "name": "stdout",
          "text": [
            "pubg\n",
            "freefire\n",
            "vicecity\n",
            "['subway surfs']\n"
          ]
        }
      ]
    },
    {
      "cell_type": "code",
      "source": [
        "games = (\"pubg\",\"freefire\",\"vicecity\",\"callofduty\",\"subway surfs\",\"Temple run\",\"Truck simulator\")\n",
        "(a , *b, c, d) = games\n",
        "\n",
        "print(a)\n",
        "print(b)\n",
        "print(c)\n",
        "print(d)"
      ],
      "metadata": {
        "colab": {
          "base_uri": "https://localhost:8080/"
        },
        "id": "MFsCLv9S2Kfu",
        "outputId": "11f25c85-0f42-46b0-8557-2658e5164b94"
      },
      "execution_count": 35,
      "outputs": [
        {
          "output_type": "stream",
          "name": "stdout",
          "text": [
            "pubg\n",
            "['freefire', 'vicecity', 'callofduty', 'subway surfs']\n",
            "Temple run\n",
            "Truck simulator\n"
          ]
        }
      ]
    },
    {
      "cell_type": "code",
      "source": [
        "games = (\"pubg\",\"freefire\",\"vicecity\",\"callofduty\",\"subway surfs\",\"Temple run\",\"Truck simulator\")\n",
        "for new in games:\n",
        "  print(new)"
      ],
      "metadata": {
        "colab": {
          "base_uri": "https://localhost:8080/"
        },
        "id": "A9jtEPWC2Vre",
        "outputId": "5d6cbc39-927b-494d-9a63-a39825cff610"
      },
      "execution_count": 36,
      "outputs": [
        {
          "output_type": "stream",
          "name": "stdout",
          "text": [
            "pubg\n",
            "freefire\n",
            "vicecity\n",
            "callofduty\n",
            "subway surfs\n",
            "Temple run\n",
            "Truck simulator\n"
          ]
        }
      ]
    },
    {
      "cell_type": "code",
      "source": [
        "games = (\"pubg\",\"freefire\",\"vicecity\",\"callofduty\",\"subway surfs\",\"Temple run\",\"Truck simulator\")\n",
        "for i in range(len(games)):\n",
        "  print(games[i])"
      ],
      "metadata": {
        "colab": {
          "base_uri": "https://localhost:8080/"
        },
        "id": "OoYr1pmH23r-",
        "outputId": "ca3e6765-58ba-4bdd-933a-06975c41222b"
      },
      "execution_count": 37,
      "outputs": [
        {
          "output_type": "stream",
          "name": "stdout",
          "text": [
            "pubg\n",
            "freefire\n",
            "vicecity\n",
            "callofduty\n",
            "subway surfs\n",
            "Temple run\n",
            "Truck simulator\n"
          ]
        }
      ]
    },
    {
      "cell_type": "code",
      "source": [
        "games = (\"pubg\",\"freefire\",\"vicecity\",\"callofduty\",\"subway surfs\",\"Temple run\",\"Truck simulator\")\n",
        "for i in range(len(games)):\n",
        "  print(games)"
      ],
      "metadata": {
        "colab": {
          "base_uri": "https://localhost:8080/"
        },
        "id": "YO1zIdpa3F7G",
        "outputId": "7c68f86c-a239-4783-bd8d-2c653eda6eea"
      },
      "execution_count": 38,
      "outputs": [
        {
          "output_type": "stream",
          "name": "stdout",
          "text": [
            "('pubg', 'freefire', 'vicecity', 'callofduty', 'subway surfs', 'Temple run', 'Truck simulator')\n",
            "('pubg', 'freefire', 'vicecity', 'callofduty', 'subway surfs', 'Temple run', 'Truck simulator')\n",
            "('pubg', 'freefire', 'vicecity', 'callofduty', 'subway surfs', 'Temple run', 'Truck simulator')\n",
            "('pubg', 'freefire', 'vicecity', 'callofduty', 'subway surfs', 'Temple run', 'Truck simulator')\n",
            "('pubg', 'freefire', 'vicecity', 'callofduty', 'subway surfs', 'Temple run', 'Truck simulator')\n",
            "('pubg', 'freefire', 'vicecity', 'callofduty', 'subway surfs', 'Temple run', 'Truck simulator')\n",
            "('pubg', 'freefire', 'vicecity', 'callofduty', 'subway surfs', 'Temple run', 'Truck simulator')\n"
          ]
        }
      ]
    },
    {
      "cell_type": "code",
      "source": [
        "games = (\"pubg\",\"freefire\",\"vicecity\",\"callofduty\",\"subway surfs\",\"Temple run\",\"Truck simulator\")\n",
        "i=0\n",
        "while i<len(games):\n",
        "  print(games[i])\n",
        "  i=i+1"
      ],
      "metadata": {
        "colab": {
          "base_uri": "https://localhost:8080/"
        },
        "id": "CdOZ2Rt04qS3",
        "outputId": "dbf9f7d9-da7e-43ea-ebbc-6ef243bdc3d8"
      },
      "execution_count": 40,
      "outputs": [
        {
          "output_type": "stream",
          "name": "stdout",
          "text": [
            "pubg\n",
            "freefire\n",
            "vicecity\n",
            "callofduty\n",
            "subway surfs\n",
            "Temple run\n",
            "Truck simulator\n"
          ]
        }
      ]
    },
    {
      "cell_type": "code",
      "source": [
        "games = (\"pubg\",\"freefire\",\"vicecity\",\"callofduty\",\"subway surfs\",\"Temple run\",\"Truck simulator\")\n",
        "i=0\n",
        "while i<len(games):\n",
        "  print(games)\n",
        "  i=i+1"
      ],
      "metadata": {
        "colab": {
          "base_uri": "https://localhost:8080/"
        },
        "id": "yfah9i21456z",
        "outputId": "f0935ba6-4aaa-43d2-8d35-23b7e7dc2c2c"
      },
      "execution_count": 41,
      "outputs": [
        {
          "output_type": "stream",
          "name": "stdout",
          "text": [
            "('pubg', 'freefire', 'vicecity', 'callofduty', 'subway surfs', 'Temple run', 'Truck simulator')\n",
            "('pubg', 'freefire', 'vicecity', 'callofduty', 'subway surfs', 'Temple run', 'Truck simulator')\n",
            "('pubg', 'freefire', 'vicecity', 'callofduty', 'subway surfs', 'Temple run', 'Truck simulator')\n",
            "('pubg', 'freefire', 'vicecity', 'callofduty', 'subway surfs', 'Temple run', 'Truck simulator')\n",
            "('pubg', 'freefire', 'vicecity', 'callofduty', 'subway surfs', 'Temple run', 'Truck simulator')\n",
            "('pubg', 'freefire', 'vicecity', 'callofduty', 'subway surfs', 'Temple run', 'Truck simulator')\n",
            "('pubg', 'freefire', 'vicecity', 'callofduty', 'subway surfs', 'Temple run', 'Truck simulator')\n"
          ]
        }
      ]
    },
    {
      "cell_type": "code",
      "source": [
        "games1 = (\"pubg\", \"freefire\", \"vicecity\")\n",
        "games2 = (\"callofduty\", \"subway surfs\", \"templerun\")\n",
        "games = games1+games2\n",
        "print(games)"
      ],
      "metadata": {
        "colab": {
          "base_uri": "https://localhost:8080/"
        },
        "id": "H7K_ZTQv4_-S",
        "outputId": "4b5db881-e0f9-4403-bf36-2b77f478e3cd"
      },
      "execution_count": 42,
      "outputs": [
        {
          "output_type": "stream",
          "name": "stdout",
          "text": [
            "('pubg', 'freefire', 'vicecity', 'callofduty', 'subway surfs', 'templerun')\n"
          ]
        }
      ]
    },
    {
      "cell_type": "code",
      "source": [
        "games = (\"pubg\",\"freefire\",\"vicecity\",\"callofduty\",\"subway surfs\",\"Temple run\",\"Truck simulator\")\n",
        "new_games = games*2\n",
        "print(new_games)"
      ],
      "metadata": {
        "colab": {
          "base_uri": "https://localhost:8080/"
        },
        "id": "5uSBrpw85w6X",
        "outputId": "85ecf0e1-4f5f-4627-baf8-6d66f242e16a"
      },
      "execution_count": 43,
      "outputs": [
        {
          "output_type": "stream",
          "name": "stdout",
          "text": [
            "('pubg', 'freefire', 'vicecity', 'callofduty', 'subway surfs', 'Temple run', 'Truck simulator', 'pubg', 'freefire', 'vicecity', 'callofduty', 'subway surfs', 'Temple run', 'Truck simulator')\n"
          ]
        }
      ]
    },
    {
      "cell_type": "code",
      "source": [
        "games = (\"pubg\",\"freefire\",\"vicecity\",\"callofduty\",\"pubg\",\"subway surfs\",\"Temple run\",\"Truck simulator\",\"pubg\")\n",
        "x=games.count(\"pubg\")\n",
        "print(x)"
      ],
      "metadata": {
        "colab": {
          "base_uri": "https://localhost:8080/"
        },
        "id": "oqvUtqCU6Czo",
        "outputId": "f89b087a-60ed-4cc5-cd58-1db0d9de1942"
      },
      "execution_count": 46,
      "outputs": [
        {
          "output_type": "stream",
          "name": "stdout",
          "text": [
            "3\n"
          ]
        }
      ]
    },
    {
      "cell_type": "code",
      "source": [
        "games = (\"pubg\",\"freefire\",\"vicecity\",\"callofduty\",\"pubg\",\"subway surfs\",\"Temple run\",\"Truck simulator\",\"pubg\")\n",
        "x=games.index(\"pubg\")\n",
        "print(x)"
      ],
      "metadata": {
        "colab": {
          "base_uri": "https://localhost:8080/"
        },
        "id": "UpAfiWSo6kIc",
        "outputId": "db53feac-500d-40de-9ca4-551ad15ac8ee"
      },
      "execution_count": 47,
      "outputs": [
        {
          "output_type": "stream",
          "name": "stdout",
          "text": [
            "0\n"
          ]
        }
      ]
    },
    {
      "cell_type": "markdown",
      "source": [
        "* ***SETS***"
      ],
      "metadata": {
        "id": "4V94jLQr_9t2"
      }
    },
    {
      "cell_type": "markdown",
      "source": [
        "-> Sets are used to store multiple items in a single variable.\n",
        "\n",
        "-> A set is a collection which is unordered, unchangeable*, and unindexed.\n",
        "\n",
        "->Set items are unordered, unchangeable, and do not allow duplicate values.\n"
      ],
      "metadata": {
        "id": "WH_AaQplAENi"
      }
    },
    {
      "cell_type": "code",
      "source": [
        "fruits = {\"apple\",\"banana\",\"orange\",\"grapes\"}\n",
        "print(fruits)"
      ],
      "metadata": {
        "colab": {
          "base_uri": "https://localhost:8080/"
        },
        "id": "6bcpFeGhAlrV",
        "outputId": "b476fcb9-dbff-4359-e76c-07eb209c519b"
      },
      "execution_count": 48,
      "outputs": [
        {
          "output_type": "stream",
          "name": "stdout",
          "text": [
            "{'banana', 'apple', 'grapes', 'orange'}\n"
          ]
        }
      ]
    },
    {
      "cell_type": "code",
      "source": [
        "fruits = {\"apple\",\"banana\",\"orange\",\"grapes\",\"apple\"}\n",
        "print(fruits)"
      ],
      "metadata": {
        "colab": {
          "base_uri": "https://localhost:8080/"
        },
        "id": "Lhtcz0SvA-m0",
        "outputId": "651eeff8-2b11-407b-a2f4-1492c36c93f9"
      },
      "execution_count": 49,
      "outputs": [
        {
          "output_type": "stream",
          "name": "stdout",
          "text": [
            "{'banana', 'apple', 'grapes', 'orange'}\n"
          ]
        }
      ]
    },
    {
      "cell_type": "code",
      "source": [
        "fruits = {\"apple\",\"banana\",\"orange\",\"grapes\",True, 1, 2}\n",
        "print(fruits)"
      ],
      "metadata": {
        "colab": {
          "base_uri": "https://localhost:8080/"
        },
        "id": "1LisT1lbBGzg",
        "outputId": "4f9fa405-fae6-40df-ce30-82a0739e29d1"
      },
      "execution_count": 50,
      "outputs": [
        {
          "output_type": "stream",
          "name": "stdout",
          "text": [
            "{True, 2, 'apple', 'grapes', 'banana', 'orange'}\n"
          ]
        }
      ]
    },
    {
      "cell_type": "code",
      "source": [
        "fruits = {\"apple\",\"banana\",\"orange\",\"grapes\",True, 1, 2}\n",
        "print(len(fruits))"
      ],
      "metadata": {
        "colab": {
          "base_uri": "https://localhost:8080/"
        },
        "id": "ETuFF7JfBUqO",
        "outputId": "e3ce77c5-641f-4de3-b9dd-6132bfcd1055"
      },
      "execution_count": 51,
      "outputs": [
        {
          "output_type": "stream",
          "name": "stdout",
          "text": [
            "6\n"
          ]
        }
      ]
    },
    {
      "cell_type": "code",
      "source": [
        "set1 = {\"apple\", \"banana\", \"cherry\"}\n",
        "set2 = {1, 5, 7, 9, 3}\n",
        "set3 = {True, False, False}\n",
        "\n",
        "print(set1)\n",
        "print(set2)\n",
        "print(set3)"
      ],
      "metadata": {
        "colab": {
          "base_uri": "https://localhost:8080/"
        },
        "id": "M_wcJyB7BvMY",
        "outputId": "779dccb5-0e57-4a44-cb7c-ed8bc220407f"
      },
      "execution_count": 52,
      "outputs": [
        {
          "output_type": "stream",
          "name": "stdout",
          "text": [
            "{'banana', 'apple', 'cherry'}\n",
            "{1, 3, 5, 7, 9}\n",
            "{False, True}\n"
          ]
        }
      ]
    },
    {
      "cell_type": "code",
      "source": [
        "fruits = {\"apple\",\"banana\",\"orange\",\"grapes\",True, 1, 2}\n",
        "print(type(fruits))"
      ],
      "metadata": {
        "colab": {
          "base_uri": "https://localhost:8080/"
        },
        "id": "ERtEvnUnB7EU",
        "outputId": "60783042-4af4-4f59-c400-d350701b5b70"
      },
      "execution_count": 53,
      "outputs": [
        {
          "output_type": "stream",
          "name": "stdout",
          "text": [
            "<class 'set'>\n"
          ]
        }
      ]
    },
    {
      "cell_type": "code",
      "source": [
        "fruits = set((\"apple\", \"orange\", \"banana\"))\n",
        "print(fruits)"
      ],
      "metadata": {
        "colab": {
          "base_uri": "https://localhost:8080/"
        },
        "id": "EX8sNAnRCEk_",
        "outputId": "64ff17d1-bc71-4474-abfc-3e3ff1a52f06"
      },
      "execution_count": 54,
      "outputs": [
        {
          "output_type": "stream",
          "name": "stdout",
          "text": [
            "{'banana', 'apple', 'orange'}\n"
          ]
        }
      ]
    },
    {
      "cell_type": "code",
      "source": [
        "fruits = {\"apple\",\"banana\",\"orange\",\"grapes\",True, 1, 2}\n",
        "for x in fruits:\n",
        "  print(x)"
      ],
      "metadata": {
        "colab": {
          "base_uri": "https://localhost:8080/"
        },
        "id": "wA7J6LlsClvS",
        "outputId": "3fea63a1-21c7-42ca-ff8e-3284c8c7c9c1"
      },
      "execution_count": 55,
      "outputs": [
        {
          "output_type": "stream",
          "name": "stdout",
          "text": [
            "True\n",
            "2\n",
            "apple\n",
            "grapes\n",
            "banana\n",
            "orange\n"
          ]
        }
      ]
    },
    {
      "cell_type": "code",
      "source": [
        "fruits = {\"apple\",\"banana\",\"orange\",\"grapes\",True, 1, 2}\n",
        "print(\"apple\" in fruits)"
      ],
      "metadata": {
        "colab": {
          "base_uri": "https://localhost:8080/"
        },
        "id": "0cxGPqGjDAjd",
        "outputId": "5a9937b5-14d8-4e69-85aa-9748fdee5d10"
      },
      "execution_count": 56,
      "outputs": [
        {
          "output_type": "stream",
          "name": "stdout",
          "text": [
            "True\n"
          ]
        }
      ]
    },
    {
      "cell_type": "code",
      "source": [
        "fruits = {\"apple\",\"banana\",\"orange\",\"grapes\"}\n",
        "fruits.add(\"kiwi\")\n",
        "print(fruits)"
      ],
      "metadata": {
        "colab": {
          "base_uri": "https://localhost:8080/"
        },
        "id": "R1LynmTEDRhq",
        "outputId": "5e872093-356e-4035-c7ab-4ec516ccd487"
      },
      "execution_count": 57,
      "outputs": [
        {
          "output_type": "stream",
          "name": "stdout",
          "text": [
            "{'kiwi', 'grapes', 'apple', 'banana', 'orange'}\n"
          ]
        }
      ]
    },
    {
      "cell_type": "code",
      "source": [
        "fruits = {\"apple\",\"banana\",\"orange\",\"grapes\"}\n",
        "games = {\"pubg\",\"freefire\",\"vicecity\",\"callofduty\"}\n",
        "fruits.update(games)\n",
        "print(fruits)"
      ],
      "metadata": {
        "colab": {
          "base_uri": "https://localhost:8080/"
        },
        "id": "0xc4fh1VDoib",
        "outputId": "678c1bd4-88fe-44a4-cda0-a122819d53ca"
      },
      "execution_count": 59,
      "outputs": [
        {
          "output_type": "stream",
          "name": "stdout",
          "text": [
            "{'grapes', 'callofduty', 'freefire', 'pubg', 'apple', 'vicecity', 'banana', 'orange'}\n"
          ]
        }
      ]
    },
    {
      "cell_type": "code",
      "source": [
        "fruits = {\"apple\",\"banana\",\"orange\",\"grapes\"}\n",
        "my_list = [\"kiwi\",\"guava\"]\n",
        "fruits.update(my_list)\n",
        "print(fruits)"
      ],
      "metadata": {
        "colab": {
          "base_uri": "https://localhost:8080/"
        },
        "id": "1E4fee8mEHn1",
        "outputId": "9621466b-a45e-4ab4-c11e-214c3c706481"
      },
      "execution_count": 60,
      "outputs": [
        {
          "output_type": "stream",
          "name": "stdout",
          "text": [
            "{'kiwi', 'grapes', 'apple', 'banana', 'orange', 'guava'}\n"
          ]
        }
      ]
    },
    {
      "cell_type": "code",
      "source": [
        "fruits = {\"apple\",\"banana\",\"orange\",\"grapes\"}\n",
        "fruits.remove(\"orange\")\n",
        "print(fruits)"
      ],
      "metadata": {
        "colab": {
          "base_uri": "https://localhost:8080/"
        },
        "id": "cQmN8oplFW7J",
        "outputId": "2a9b5cae-7cdf-48d4-d4bb-2e0a2f443201"
      },
      "execution_count": 61,
      "outputs": [
        {
          "output_type": "stream",
          "name": "stdout",
          "text": [
            "{'banana', 'apple', 'grapes'}\n"
          ]
        }
      ]
    },
    {
      "cell_type": "code",
      "source": [
        "fruits = {\"apple\",\"banana\",\"orange\",\"grapes\"}\n",
        "fruits.discard(\"orange\")\n",
        "print(fruits)"
      ],
      "metadata": {
        "colab": {
          "base_uri": "https://localhost:8080/"
        },
        "id": "Yj_GLDJNFdRF",
        "outputId": "ad6386bd-0a6c-4834-8db2-ae317bdc3aa2"
      },
      "execution_count": 62,
      "outputs": [
        {
          "output_type": "stream",
          "name": "stdout",
          "text": [
            "{'banana', 'apple', 'grapes'}\n"
          ]
        }
      ]
    },
    {
      "cell_type": "code",
      "source": [
        "fruits = {\"apple\",\"banana\",\"orange\",\"grapes\"}\n",
        "x=fruits.pop()\n",
        "print(x)\n",
        "print(fruits)"
      ],
      "metadata": {
        "colab": {
          "base_uri": "https://localhost:8080/"
        },
        "id": "W3CIAXimGAcv",
        "outputId": "8e8a29ba-a36f-4ac4-f690-b30e11b7dfc3"
      },
      "execution_count": 63,
      "outputs": [
        {
          "output_type": "stream",
          "name": "stdout",
          "text": [
            "banana\n",
            "{'apple', 'grapes', 'orange'}\n"
          ]
        }
      ]
    },
    {
      "cell_type": "code",
      "source": [
        "fruits = {\"apple\",\"banana\",\"orange\",\"grapes\"}\n",
        "fruits.clear()\n",
        "print(fruits)"
      ],
      "metadata": {
        "colab": {
          "base_uri": "https://localhost:8080/"
        },
        "id": "jQKn8tFwGlaa",
        "outputId": "9716dad4-43d5-4ea1-bdd7-3eb370152b98"
      },
      "execution_count": 64,
      "outputs": [
        {
          "output_type": "stream",
          "name": "stdout",
          "text": [
            "set()\n"
          ]
        }
      ]
    },
    {
      "cell_type": "code",
      "source": [
        "fruits = {\"apple\",\"banana\",\"orange\",\"grapes\"}\n",
        "del fruits\n",
        "print(fruits)"
      ],
      "metadata": {
        "colab": {
          "base_uri": "https://localhost:8080/",
          "height": 210
        },
        "id": "tjcCFVAEG3o4",
        "outputId": "845d08fb-10bc-468c-8248-6481eb1daea7"
      },
      "execution_count": 65,
      "outputs": [
        {
          "output_type": "error",
          "ename": "NameError",
          "evalue": "ignored",
          "traceback": [
            "\u001b[0;31m---------------------------------------------------------------------------\u001b[0m",
            "\u001b[0;31mNameError\u001b[0m                                 Traceback (most recent call last)",
            "\u001b[0;32m<ipython-input-65-64b8303a0a9f>\u001b[0m in \u001b[0;36m<cell line: 3>\u001b[0;34m()\u001b[0m\n\u001b[1;32m      1\u001b[0m \u001b[0mfruits\u001b[0m \u001b[0;34m=\u001b[0m \u001b[0;34m{\u001b[0m\u001b[0;34m\"apple\"\u001b[0m\u001b[0;34m,\u001b[0m\u001b[0;34m\"banana\"\u001b[0m\u001b[0;34m,\u001b[0m\u001b[0;34m\"orange\"\u001b[0m\u001b[0;34m,\u001b[0m\u001b[0;34m\"grapes\"\u001b[0m\u001b[0;34m}\u001b[0m\u001b[0;34m\u001b[0m\u001b[0;34m\u001b[0m\u001b[0m\n\u001b[1;32m      2\u001b[0m \u001b[0;32mdel\u001b[0m \u001b[0mfruits\u001b[0m\u001b[0;34m\u001b[0m\u001b[0;34m\u001b[0m\u001b[0m\n\u001b[0;32m----> 3\u001b[0;31m \u001b[0mprint\u001b[0m\u001b[0;34m(\u001b[0m\u001b[0mfruits\u001b[0m\u001b[0;34m)\u001b[0m\u001b[0;34m\u001b[0m\u001b[0;34m\u001b[0m\u001b[0m\n\u001b[0m",
            "\u001b[0;31mNameError\u001b[0m: name 'fruits' is not defined"
          ]
        }
      ]
    },
    {
      "cell_type": "code",
      "source": [
        "fruits = {\"apple\",\"banana\",\"orange\",\"grapes\"}\n",
        "for x in fruits:\n",
        "  print(x)"
      ],
      "metadata": {
        "colab": {
          "base_uri": "https://localhost:8080/"
        },
        "id": "m0EnWLOVHDxT",
        "outputId": "72955526-d8af-462a-e44d-43b25e08a8d4"
      },
      "execution_count": 66,
      "outputs": [
        {
          "output_type": "stream",
          "name": "stdout",
          "text": [
            "banana\n",
            "apple\n",
            "grapes\n",
            "orange\n"
          ]
        }
      ]
    },
    {
      "cell_type": "code",
      "source": [
        "fruits1 = {\"apple\",\"banana\",\"orange\",\"grapes\"}\n",
        "fruits2 = {\"kiwi\",\"promagranate\",}\n",
        "fruits = fruits1.union(fruits2)\n",
        "print(fruits)"
      ],
      "metadata": {
        "colab": {
          "base_uri": "https://localhost:8080/"
        },
        "id": "92T6Qy-SHPah",
        "outputId": "47926892-ed63-460b-aef0-6ca6cabdb3b1"
      },
      "execution_count": 67,
      "outputs": [
        {
          "output_type": "stream",
          "name": "stdout",
          "text": [
            "{'apple', 'promagranate', 'kiwi', 'grapes', 'banana', 'orange'}\n"
          ]
        }
      ]
    },
    {
      "cell_type": "code",
      "source": [
        "fruits1 = {\"apple\",\"banana\",\"orange\",\"grapes\"}\n",
        "fruits2 = {\"kiwi\",\"promagranate\",}\n",
        "fruits1.update(fruits2)\n",
        "print(fruits1)"
      ],
      "metadata": {
        "colab": {
          "base_uri": "https://localhost:8080/"
        },
        "id": "Xttm1HStICIH",
        "outputId": "366b616e-0ed9-4a92-f82e-5e7b6d37ac79"
      },
      "execution_count": 70,
      "outputs": [
        {
          "output_type": "stream",
          "name": "stdout",
          "text": [
            "{'apple', 'promagranate', 'kiwi', 'grapes', 'banana', 'orange'}\n"
          ]
        }
      ]
    },
    {
      "cell_type": "code",
      "source": [
        "x = {\"apple\", \"banana\", \"orange\", \"grapes\"}\n",
        "y = {\"kiwi\", \"promagranate\", \"apple\"}\n",
        "\n",
        "x.intersection_update(y)\n",
        "\n",
        "print(x)"
      ],
      "metadata": {
        "colab": {
          "base_uri": "https://localhost:8080/"
        },
        "id": "1w1TVn2jIQRl",
        "outputId": "8bacdd5b-f33d-4918-8ce0-29f1b1ad092a"
      },
      "execution_count": 75,
      "outputs": [
        {
          "output_type": "stream",
          "name": "stdout",
          "text": [
            "{'apple'}\n"
          ]
        }
      ]
    },
    {
      "cell_type": "code",
      "source": [
        "x = {\"apple\", \"banana\", \"orange\", \"grapes\"}\n",
        "y = {\"kiwi\", \"promagranate\", \"apple\"}\n",
        "\n",
        "x.symmetric_difference_update(y)\n",
        "\n",
        "print(x)"
      ],
      "metadata": {
        "colab": {
          "base_uri": "https://localhost:8080/"
        },
        "id": "r_11YzG-JZCf",
        "outputId": "4f926fe8-0f1b-4e4e-b6bc-d1062acf6cc8"
      },
      "execution_count": 76,
      "outputs": [
        {
          "output_type": "stream",
          "name": "stdout",
          "text": [
            "{'promagranate', 'kiwi', 'grapes', 'banana', 'orange'}\n"
          ]
        }
      ]
    },
    {
      "cell_type": "code",
      "source": [
        "x = {\"apple\", \"banana\", \"orange\", \"grapes\"}\n",
        "y = {\"kiwi\", \"promagranate\"}\n",
        "\n",
        "z = x.isdisjoint(y)\n",
        "\n",
        "print(z)"
      ],
      "metadata": {
        "colab": {
          "base_uri": "https://localhost:8080/"
        },
        "id": "VWuxdvg4J8rq",
        "outputId": "ae50b210-d34f-45e1-9164-354472410d4c"
      },
      "execution_count": 81,
      "outputs": [
        {
          "output_type": "stream",
          "name": "stdout",
          "text": [
            "True\n"
          ]
        }
      ]
    },
    {
      "cell_type": "code",
      "source": [
        "x = {\"apple\", \"banana\", \"orange\", \"grapes\"}\n",
        "y = {\"kiwi\", \"promagranate\"}\n",
        "\n",
        "z = x.issuperset(y)\n",
        "\n",
        "print(z)"
      ],
      "metadata": {
        "colab": {
          "base_uri": "https://localhost:8080/"
        },
        "id": "V9rk_9qTKZxB",
        "outputId": "de29cd87-2cd7-408f-e492-487d0ceaa21f"
      },
      "execution_count": 82,
      "outputs": [
        {
          "output_type": "stream",
          "name": "stdout",
          "text": [
            "False\n"
          ]
        }
      ]
    },
    {
      "cell_type": "code",
      "source": [
        "x = {\"apple\", \"banana\", \"orange\", \"grapes\", \"kiwi\", \"promagranate\"}\n",
        "y = {\"kiwi\", \"promagranate\"}\n",
        "\n",
        "z = x.issuperset(y)\n",
        "\n",
        "print(z)"
      ],
      "metadata": {
        "colab": {
          "base_uri": "https://localhost:8080/"
        },
        "id": "XQSKd0IbKmgU",
        "outputId": "6ad9e6ca-22f5-433f-98b0-8831f3c7010e"
      },
      "execution_count": 83,
      "outputs": [
        {
          "output_type": "stream",
          "name": "stdout",
          "text": [
            "True\n"
          ]
        }
      ]
    },
    {
      "cell_type": "code",
      "source": [
        "x = {\"apple\", \"banana\", \"orange\", \"grapes\"}\n",
        "y = {\"kiwi\", \"promagranate\"}\n",
        "\n",
        "z = x.issubset(y)\n",
        "\n",
        "print(z)"
      ],
      "metadata": {
        "colab": {
          "base_uri": "https://localhost:8080/"
        },
        "id": "C1A0Hvg0KvuG",
        "outputId": "20126065-b0e4-4088-8516-769f1ac5ef6b"
      },
      "execution_count": 84,
      "outputs": [
        {
          "output_type": "stream",
          "name": "stdout",
          "text": [
            "False\n"
          ]
        }
      ]
    },
    {
      "cell_type": "code",
      "source": [
        "x = {\"apple\", \"banana\", \"orange\", \"grapes\", \"kiwi\", \"promagranate\"}\n",
        "y = {\"kiwi\", \"promagranate\"}\n",
        "\n",
        "z = x.issubset(y)\n",
        "\n",
        "print(z)"
      ],
      "metadata": {
        "colab": {
          "base_uri": "https://localhost:8080/"
        },
        "id": "Uf2jyJcmLDEv",
        "outputId": "0f7d2a36-6442-469f-eb61-dd592b58c1d2"
      },
      "execution_count": 85,
      "outputs": [
        {
          "output_type": "stream",
          "name": "stdout",
          "text": [
            "False\n"
          ]
        }
      ]
    },
    {
      "cell_type": "code",
      "source": [
        "x = {\"apple\", \"banana\", \"orange\", \"grapes\", \"kiwi\", \"promagranate\"}\n",
        "y = {\"kiwi\", \"promagranate\"}\n",
        "\n",
        "z = y.issubset(x)\n",
        "\n",
        "print(z)"
      ],
      "metadata": {
        "colab": {
          "base_uri": "https://localhost:8080/"
        },
        "id": "GPHp8nxOLGUO",
        "outputId": "af77d8c0-8be3-4803-db97-e239278e6fbc"
      },
      "execution_count": 86,
      "outputs": [
        {
          "output_type": "stream",
          "name": "stdout",
          "text": [
            "True\n"
          ]
        }
      ]
    }
  ]
}