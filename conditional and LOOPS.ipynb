{
  "nbformat": 4,
  "nbformat_minor": 0,
  "metadata": {
    "colab": {
      "provenance": [],
      "authorship_tag": "ABX9TyPHPlgejMvowbialsxgigq/",
      "include_colab_link": true
    },
    "kernelspec": {
      "name": "python3",
      "display_name": "Python 3"
    },
    "language_info": {
      "name": "python"
    }
  },
  "cells": [
    {
      "cell_type": "markdown",
      "metadata": {
        "id": "view-in-github",
        "colab_type": "text"
      },
      "source": [
        "<a href=\"https://colab.research.google.com/github/VeeramalluVinayak/VINAYAK/blob/main/conditional%20and%20LOOPS.ipynb\" target=\"_parent\"><img src=\"https://colab.research.google.com/assets/colab-badge.svg\" alt=\"Open In Colab\"/></a>"
      ]
    },
    {
      "cell_type": "markdown",
      "source": [
        "# **CONDITIONAL STATEMENTS**"
      ],
      "metadata": {
        "id": "96xAdk_Fnid-"
      }
    },
    {
      "cell_type": "code",
      "execution_count": 2,
      "metadata": {
        "id": "Q5P0fPULeEmW"
      },
      "outputs": [],
      "source": [
        "a=30\n",
        "b=50\n",
        "if a>b:\n",
        "  print(\"a is greater than b\")"
      ]
    },
    {
      "cell_type": "code",
      "source": [
        "a=30\n",
        "b=50\n",
        "if a<b:\n",
        "  print(\"a is less than b\")"
      ],
      "metadata": {
        "colab": {
          "base_uri": "https://localhost:8080/"
        },
        "id": "FtfS5vdnezia",
        "outputId": "28eb9b6c-57d7-4165-8387-db6ff6796573"
      },
      "execution_count": 3,
      "outputs": [
        {
          "output_type": "stream",
          "name": "stdout",
          "text": [
            "a is less than b\n"
          ]
        }
      ]
    },
    {
      "cell_type": "code",
      "source": [
        "a=30\n",
        "b=50\n",
        "if a>b:\n",
        "  print(\"a is greater than b\")\n",
        "elif b>a:\n",
        "  print(\"b is greater a\")"
      ],
      "metadata": {
        "colab": {
          "base_uri": "https://localhost:8080/"
        },
        "id": "0V_nehmge6Cy",
        "outputId": "066a941e-2e44-493b-d955-1658606a03c6"
      },
      "execution_count": 4,
      "outputs": [
        {
          "output_type": "stream",
          "name": "stdout",
          "text": [
            "b is greater a\n"
          ]
        }
      ]
    },
    {
      "cell_type": "code",
      "source": [
        "a=30\n",
        "b=50\n",
        "if a>b:\n",
        "  print(\"a is greater than b\")\n",
        "else:\n",
        "  print(\"b is greater a\")\n"
      ],
      "metadata": {
        "colab": {
          "base_uri": "https://localhost:8080/"
        },
        "id": "qmazADuDfG06",
        "outputId": "c17b3fc0-4c99-44bc-a86b-3a32c923a07d"
      },
      "execution_count": 5,
      "outputs": [
        {
          "output_type": "stream",
          "name": "stdout",
          "text": [
            "b is greater a\n"
          ]
        }
      ]
    },
    {
      "cell_type": "code",
      "source": [
        "a=30\n",
        "b=50\n",
        "if a>b:\n",
        "  print(\"a is greater than b\")\n",
        "elif b<a:\n",
        "  print(\"b is less than a\")\n",
        "else:\n",
        "  print(\"b is greater than a\")"
      ],
      "metadata": {
        "colab": {
          "base_uri": "https://localhost:8080/"
        },
        "id": "RWH43S5OfMgf",
        "outputId": "f581b1a4-0d03-4e9c-b8bf-f94449e38695"
      },
      "execution_count": 6,
      "outputs": [
        {
          "output_type": "stream",
          "name": "stdout",
          "text": [
            "b is greater than a\n"
          ]
        }
      ]
    },
    {
      "cell_type": "code",
      "source": [
        "a = 500\n",
        "b = 325\n",
        "c = 600\n",
        "d = 100\n",
        "if a>b and c>d:\n",
        "  print(\"Both statements are true\")\n",
        "else:\n",
        "  print(\"false\")"
      ],
      "metadata": {
        "colab": {
          "base_uri": "https://localhost:8080/"
        },
        "id": "fVbtYY52fn26",
        "outputId": "5960a718-e023-433e-b502-6008fdc59e36"
      },
      "execution_count": 7,
      "outputs": [
        {
          "output_type": "stream",
          "name": "stdout",
          "text": [
            "Both statements are true\n"
          ]
        }
      ]
    },
    {
      "cell_type": "code",
      "source": [
        "a = 500\n",
        "b = 325\n",
        "c = 600\n",
        "d = 100\n",
        "if a>b or c<d:\n",
        "  print(\"Any one statement is true\")\n",
        "else:\n",
        "  print(\"false\")"
      ],
      "metadata": {
        "colab": {
          "base_uri": "https://localhost:8080/"
        },
        "id": "KkNNN61SgTUk",
        "outputId": "917544d7-5db2-42f4-cb5b-d2079ae9d26e"
      },
      "execution_count": 8,
      "outputs": [
        {
          "output_type": "stream",
          "name": "stdout",
          "text": [
            "Any one statement is true\n"
          ]
        }
      ]
    },
    {
      "cell_type": "code",
      "source": [
        "a = 500\n",
        "b = 325\n",
        "c = 600\n",
        "d = 100\n",
        "if not a<b:\n",
        "  print(\"Both statements are true\")\n",
        "else:\n",
        "  print(\"false\")"
      ],
      "metadata": {
        "colab": {
          "base_uri": "https://localhost:8080/"
        },
        "id": "gBJCIkMBhKoi",
        "outputId": "1a511b30-fbdc-4c88-b16e-84f37f719c11"
      },
      "execution_count": 12,
      "outputs": [
        {
          "output_type": "stream",
          "name": "stdout",
          "text": [
            "Both statements are true\n"
          ]
        }
      ]
    },
    {
      "cell_type": "code",
      "source": [
        "a = 500\n",
        "b = 325\n",
        "c = 600\n",
        "d = 100\n",
        "if not a>b:\n",
        "  print(\"Both statements are true\")\n",
        "else:\n",
        "  print(\"false\")"
      ],
      "metadata": {
        "colab": {
          "base_uri": "https://localhost:8080/"
        },
        "id": "SjbwpbnthhwJ",
        "outputId": "6f0afb23-b7c7-47df-a3b6-813e8011fd39"
      },
      "execution_count": 13,
      "outputs": [
        {
          "output_type": "stream",
          "name": "stdout",
          "text": [
            "false\n"
          ]
        }
      ]
    },
    {
      "cell_type": "code",
      "source": [
        "a = 500\n",
        "b = 325\n",
        "c = 600\n",
        "d = 100\n",
        "if a>b and b<c:\n",
        "  print(\"Both statements are true\")\n",
        "elif a<b or c<d:\n",
        "  print(\"Both statements are False\")\n",
        "else:\n",
        "  print(\"false\")"
      ],
      "metadata": {
        "colab": {
          "base_uri": "https://localhost:8080/"
        },
        "id": "BXKG1qYbhmb1",
        "outputId": "8e009220-40dd-4552-b0b4-1e3cb13a137d"
      },
      "execution_count": 14,
      "outputs": [
        {
          "output_type": "stream",
          "name": "stdout",
          "text": [
            "Both statements are true\n"
          ]
        }
      ]
    },
    {
      "cell_type": "code",
      "source": [
        "a = 500\n",
        "b = 325\n",
        "c = 600\n",
        "d = 100\n",
        "if a>b and b>c:\n",
        "  print(\"Both statements are true\")\n",
        "elif a>b or c<d:\n",
        "  print(\"Any one statement are true\")\n",
        "else:\n",
        "  print(\"false\")"
      ],
      "metadata": {
        "colab": {
          "base_uri": "https://localhost:8080/"
        },
        "id": "gFAR2BMaiTAC",
        "outputId": "3bc4f42f-041d-4d80-fc3d-32031f16c3b2"
      },
      "execution_count": 15,
      "outputs": [
        {
          "output_type": "stream",
          "name": "stdout",
          "text": [
            "Any one statement are true\n"
          ]
        }
      ]
    },
    {
      "cell_type": "code",
      "source": [
        "a = 500\n",
        "b = 325\n",
        "c = 600\n",
        "d = 100\n",
        "if a>b and b>c:\n",
        "  print(\"Both statements are true\")\n",
        "elif not c>d:\n",
        "  print(\"this statements are False\")\n",
        "else:\n",
        "  print(\"false\")"
      ],
      "metadata": {
        "colab": {
          "base_uri": "https://localhost:8080/"
        },
        "id": "OotnBdcKizaM",
        "outputId": "dffbf162-54fc-410c-e846-fdf3029465ed"
      },
      "execution_count": 16,
      "outputs": [
        {
          "output_type": "stream",
          "name": "stdout",
          "text": [
            "false\n"
          ]
        }
      ]
    },
    {
      "cell_type": "code",
      "source": [
        "a = 500\n",
        "b = 325\n",
        "c = 600\n",
        "d = 100\n",
        "if a>b and b>c:\n",
        "  print(\"Both statements are true\")\n",
        "elif not c<d:\n",
        "  print(\"this statements are False\")\n",
        "else:\n",
        "  print(\"false\")"
      ],
      "metadata": {
        "colab": {
          "base_uri": "https://localhost:8080/"
        },
        "id": "EKwUn4L1jGhm",
        "outputId": "581593f0-7ca8-42be-94f7-97fc9c8e3770"
      },
      "execution_count": 18,
      "outputs": [
        {
          "output_type": "stream",
          "name": "stdout",
          "text": [
            "this statements are False\n"
          ]
        }
      ]
    },
    {
      "cell_type": "code",
      "source": [
        "a = 33\n",
        "b = 33\n",
        "if b > a:\n",
        "  print(\"b is greater than a\")\n",
        "elif a == b:\n",
        "  print(\"a and b are equal\")\n"
      ],
      "metadata": {
        "colab": {
          "base_uri": "https://localhost:8080/"
        },
        "id": "p4kKk20wjjHs",
        "outputId": "06a32d07-9ddc-4d09-d841-a109c26001c6"
      },
      "execution_count": 19,
      "outputs": [
        {
          "output_type": "stream",
          "name": "stdout",
          "text": [
            "a and b are equal\n"
          ]
        }
      ]
    },
    {
      "cell_type": "code",
      "source": [
        "a = 200\n",
        "b = 33\n",
        "if b > a:\n",
        "  print(\"b is greater than a\")\n",
        "elif a == b:\n",
        "  print(\"a and b are equal\")\n",
        "else:\n",
        "  print(\"a is greater than b\")\n"
      ],
      "metadata": {
        "colab": {
          "base_uri": "https://localhost:8080/"
        },
        "id": "gBLAhDPJj8tr",
        "outputId": "2a25aa28-5f68-4112-9658-0f4cda66f084"
      },
      "execution_count": 20,
      "outputs": [
        {
          "output_type": "stream",
          "name": "stdout",
          "text": [
            "a is greater than b\n"
          ]
        }
      ]
    },
    {
      "cell_type": "code",
      "source": [
        "a = 2\n",
        "b = 330\n",
        "print(\"A\") if a > b else print(\"B\")"
      ],
      "metadata": {
        "colab": {
          "base_uri": "https://localhost:8080/"
        },
        "id": "KyucnaZbj-wn",
        "outputId": "d69e45e5-822d-44de-9990-569a6c2cfb1b"
      },
      "execution_count": 21,
      "outputs": [
        {
          "output_type": "stream",
          "name": "stdout",
          "text": [
            "B\n"
          ]
        }
      ]
    },
    {
      "cell_type": "code",
      "source": [
        "a = 33\n",
        "b = 200\n",
        "\n",
        "if b > a:\n",
        "  pass"
      ],
      "metadata": {
        "id": "g8k5F7olknkQ"
      },
      "execution_count": 22,
      "outputs": []
    },
    {
      "cell_type": "markdown",
      "source": [
        "# **LOOPS STATEMENTS**"
      ],
      "metadata": {
        "id": "U9tAt4fWn1ex"
      }
    },
    {
      "cell_type": "markdown",
      "source": [
        "* **Python has two primitive loop commands:**\n",
        "\n",
        "  -> **while loops**\n",
        "\n",
        "  -> **For loop**"
      ],
      "metadata": {
        "id": "9gJfWpyzoMzo"
      }
    },
    {
      "cell_type": "markdown",
      "source": [
        "#  **While loop**"
      ],
      "metadata": {
        "id": "phNHnGcso6LK"
      }
    },
    {
      "cell_type": "code",
      "source": [
        "i = 1\n",
        "while i < 6:\n",
        "  print(i)\n",
        "  i += 1"
      ],
      "metadata": {
        "colab": {
          "base_uri": "https://localhost:8080/"
        },
        "id": "Q6Cu_ShepFbf",
        "outputId": "66d26a8f-25c8-470b-c06c-5325019e6544"
      },
      "execution_count": 23,
      "outputs": [
        {
          "output_type": "stream",
          "name": "stdout",
          "text": [
            "1\n",
            "2\n",
            "3\n",
            "4\n",
            "5\n"
          ]
        }
      ]
    },
    {
      "cell_type": "code",
      "source": [
        "i = 1\n",
        "while i < 6:\n",
        "  print(i, end=\" \")\n",
        "  i += 1"
      ],
      "metadata": {
        "colab": {
          "base_uri": "https://localhost:8080/"
        },
        "id": "w_TpA4-lpRcd",
        "outputId": "003103fe-c0bd-4fa2-a6eb-9c992b9e25f6"
      },
      "execution_count": 24,
      "outputs": [
        {
          "output_type": "stream",
          "name": "stdout",
          "text": [
            "1 2 3 4 5 "
          ]
        }
      ]
    },
    {
      "cell_type": "code",
      "source": [
        "i = 0\n",
        "while i < 6:\n",
        "  print(i)\n",
        "  if i == 3:\n",
        "    break\n",
        "  i += 1"
      ],
      "metadata": {
        "colab": {
          "base_uri": "https://localhost:8080/"
        },
        "id": "F61e7teapRQ_",
        "outputId": "855888f5-af53-4776-fb1c-007d474e91b9"
      },
      "execution_count": 29,
      "outputs": [
        {
          "output_type": "stream",
          "name": "stdout",
          "text": [
            "0\n",
            "1\n",
            "2\n",
            "3\n"
          ]
        }
      ]
    },
    {
      "cell_type": "code",
      "source": [
        "i = 0\n",
        "while i < 6:\n",
        "  i += 1\n",
        "  if i == 3:\n",
        "    continue\n",
        "  print(i, end=\" \")\n"
      ],
      "metadata": {
        "colab": {
          "base_uri": "https://localhost:8080/"
        },
        "id": "ppEUFKDJp4gG",
        "outputId": "626b8e23-db01-443d-fcdf-f035331224e6"
      },
      "execution_count": 27,
      "outputs": [
        {
          "output_type": "stream",
          "name": "stdout",
          "text": [
            "1 2 4 5 6 "
          ]
        }
      ]
    },
    {
      "cell_type": "code",
      "source": [
        "i = 1\n",
        "while i < 6:\n",
        "  print(i)\n",
        "  i += 1\n",
        "else:\n",
        "  print(\"i is no longer less than 6\")"
      ],
      "metadata": {
        "colab": {
          "base_uri": "https://localhost:8080/"
        },
        "id": "UlJLPCY-p-uw",
        "outputId": "578c1733-f6de-4fed-8082-d148f5bbef13"
      },
      "execution_count": 28,
      "outputs": [
        {
          "output_type": "stream",
          "name": "stdout",
          "text": [
            "1\n",
            "2\n",
            "3\n",
            "4\n",
            "5\n",
            "i is no longer less than 6\n"
          ]
        }
      ]
    },
    {
      "cell_type": "markdown",
      "source": [
        "# **FOR LOOP**"
      ],
      "metadata": {
        "id": "RTo-pUOUumeI"
      }
    },
    {
      "cell_type": "code",
      "source": [
        "fruits = [\"apple\", \"banana\", \"cherry\"]\n",
        "for x in fruits:\n",
        "  print(x)"
      ],
      "metadata": {
        "colab": {
          "base_uri": "https://localhost:8080/"
        },
        "id": "sI1eGZtuuq5b",
        "outputId": "ddf2396b-094a-4c5f-9d9e-c62c282742b1"
      },
      "execution_count": 41,
      "outputs": [
        {
          "output_type": "stream",
          "name": "stdout",
          "text": [
            "apple\n",
            "banana\n",
            "cherry\n"
          ]
        }
      ]
    },
    {
      "cell_type": "code",
      "source": [
        "for x in \"banana\":\n",
        "  print(x)"
      ],
      "metadata": {
        "colab": {
          "base_uri": "https://localhost:8080/"
        },
        "id": "9XAq_WYQuu8k",
        "outputId": "e235ca69-be34-42f8-e499-b634a5edbdcf"
      },
      "execution_count": 42,
      "outputs": [
        {
          "output_type": "stream",
          "name": "stdout",
          "text": [
            "b\n",
            "a\n",
            "n\n",
            "a\n",
            "n\n",
            "a\n"
          ]
        }
      ]
    },
    {
      "cell_type": "code",
      "source": [
        "fruits = [\"apple\", \"banana\", \"cherry\"]\n",
        "for x in fruits:\n",
        "  print(x)\n",
        "  if x == \"banana\":\n",
        "    break"
      ],
      "metadata": {
        "colab": {
          "base_uri": "https://localhost:8080/"
        },
        "id": "kAyeC6yOu4ta",
        "outputId": "299302cb-e6cf-490d-e4da-3509a661ba3d"
      },
      "execution_count": 43,
      "outputs": [
        {
          "output_type": "stream",
          "name": "stdout",
          "text": [
            "apple\n",
            "banana\n"
          ]
        }
      ]
    },
    {
      "cell_type": "code",
      "source": [
        "fruits = [\"apple\", \"banana\", \"cherry\"]\n",
        "for x in fruits:\n",
        "  if x == \"banana\":\n",
        "    break\n",
        "  print(x)"
      ],
      "metadata": {
        "colab": {
          "base_uri": "https://localhost:8080/"
        },
        "id": "R9gJn_2du9pS",
        "outputId": "a7f227fa-566a-4502-ca36-debfce0cbd9e"
      },
      "execution_count": 44,
      "outputs": [
        {
          "output_type": "stream",
          "name": "stdout",
          "text": [
            "apple\n"
          ]
        }
      ]
    },
    {
      "cell_type": "code",
      "source": [
        "fruits = [\"apple\", \"banana\", \"cherry\"]\n",
        "for x in fruits:\n",
        "  if x == \"banana\":\n",
        "    continue\n",
        "  print(x)"
      ],
      "metadata": {
        "colab": {
          "base_uri": "https://localhost:8080/"
        },
        "id": "9IOOe0ZfvaCp",
        "outputId": "39f0fba1-db5a-4d55-88f8-f55fdfda4664"
      },
      "execution_count": 45,
      "outputs": [
        {
          "output_type": "stream",
          "name": "stdout",
          "text": [
            "apple\n",
            "cherry\n"
          ]
        }
      ]
    },
    {
      "cell_type": "code",
      "source": [
        "for x in range(6):\n",
        "  print(x)"
      ],
      "metadata": {
        "colab": {
          "base_uri": "https://localhost:8080/"
        },
        "id": "Z4wWi1rTv1kD",
        "outputId": "790f9283-f98c-49ea-82c0-d316ecc1b19e"
      },
      "execution_count": 46,
      "outputs": [
        {
          "output_type": "stream",
          "name": "stdout",
          "text": [
            "0\n",
            "1\n",
            "2\n",
            "3\n",
            "4\n",
            "5\n"
          ]
        }
      ]
    },
    {
      "cell_type": "code",
      "source": [
        "for x in range(2, 6):\n",
        "  print(x)"
      ],
      "metadata": {
        "colab": {
          "base_uri": "https://localhost:8080/"
        },
        "id": "pLjgYxQTv6S8",
        "outputId": "fec8ef6a-f997-496b-ed85-def26a0783d8"
      },
      "execution_count": 47,
      "outputs": [
        {
          "output_type": "stream",
          "name": "stdout",
          "text": [
            "2\n",
            "3\n",
            "4\n",
            "5\n"
          ]
        }
      ]
    },
    {
      "cell_type": "code",
      "source": [
        "for x in range(2, 30, 3):\n",
        "  print(x)"
      ],
      "metadata": {
        "colab": {
          "base_uri": "https://localhost:8080/"
        },
        "id": "lCTli8XywROA",
        "outputId": "05a10e78-73a9-454d-dcb5-2f5f1c833572"
      },
      "execution_count": 50,
      "outputs": [
        {
          "output_type": "stream",
          "name": "stdout",
          "text": [
            "2\n",
            "5\n",
            "8\n",
            "11\n",
            "14\n",
            "17\n",
            "20\n",
            "23\n",
            "26\n",
            "29\n"
          ]
        }
      ]
    },
    {
      "cell_type": "code",
      "source": [
        "for x in range(2, 30, 2):\n",
        "  print(x, end=\" \")"
      ],
      "metadata": {
        "colab": {
          "base_uri": "https://localhost:8080/"
        },
        "id": "7rkkY4Prwfvd",
        "outputId": "c5bd73e5-2e8c-406c-c847-a5ad9aed5149"
      },
      "execution_count": 51,
      "outputs": [
        {
          "output_type": "stream",
          "name": "stdout",
          "text": [
            "2 4 6 8 10 12 14 16 18 20 22 24 26 28 "
          ]
        }
      ]
    },
    {
      "cell_type": "code",
      "source": [
        "for x in range(6):\n",
        "  print(x)\n",
        "else:\n",
        "  print(\"Finally finished!\")"
      ],
      "metadata": {
        "colab": {
          "base_uri": "https://localhost:8080/"
        },
        "id": "5XQCFFFLwVt_",
        "outputId": "9b6ed9d5-cf88-4aa2-a093-d1f4a6e899c6"
      },
      "execution_count": 49,
      "outputs": [
        {
          "output_type": "stream",
          "name": "stdout",
          "text": [
            "0\n",
            "1\n",
            "2\n",
            "3\n",
            "4\n",
            "5\n",
            "Finally finished!\n"
          ]
        }
      ]
    },
    {
      "cell_type": "code",
      "source": [
        "adj = [\"red\", \"big\", \"tasty\"]\n",
        "fruits = [\"apple\", \"banana\", \"cherry\"]\n",
        "\n",
        "for x in adj:\n",
        "  for y in fruits:\n",
        "    print(x, y)\n"
      ],
      "metadata": {
        "colab": {
          "base_uri": "https://localhost:8080/"
        },
        "id": "p6loJU4Pw7ub",
        "outputId": "fcffff45-15aa-46f3-c55e-36e2bcb0e7c1"
      },
      "execution_count": 52,
      "outputs": [
        {
          "output_type": "stream",
          "name": "stdout",
          "text": [
            "red apple\n",
            "red banana\n",
            "red cherry\n",
            "big apple\n",
            "big banana\n",
            "big cherry\n",
            "tasty apple\n",
            "tasty banana\n",
            "tasty cherry\n"
          ]
        }
      ]
    },
    {
      "cell_type": "code",
      "source": [
        "for x in [0, 1, 2]:\n",
        "  pass"
      ],
      "metadata": {
        "id": "MwDVWwJRxJIv"
      },
      "execution_count": 53,
      "outputs": []
    }
  ]
}