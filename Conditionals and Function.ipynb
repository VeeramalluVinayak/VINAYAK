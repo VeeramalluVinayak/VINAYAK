{
  "nbformat": 4,
  "nbformat_minor": 0,
  "metadata": {
    "colab": {
      "provenance": [],
      "authorship_tag": "ABX9TyP0jZF8LpC3Dl+wkaBIBqH8",
      "include_colab_link": true
    },
    "kernelspec": {
      "name": "python3",
      "display_name": "Python 3"
    },
    "language_info": {
      "name": "python"
    }
  },
  "cells": [
    {
      "cell_type": "markdown",
      "metadata": {
        "id": "view-in-github",
        "colab_type": "text"
      },
      "source": [
        "<a href=\"https://colab.research.google.com/github/VeeramalluVinayak/VINAYAK/blob/main/Conditionals%20and%20Function.ipynb\" target=\"_parent\"><img src=\"https://colab.research.google.com/assets/colab-badge.svg\" alt=\"Open In Colab\"/></a>"
      ]
    },
    {
      "cell_type": "markdown",
      "source": [
        "# ***Numeric operations***"
      ],
      "metadata": {
        "id": "I68TxrnoM1iw"
      }
    },
    {
      "cell_type": "code",
      "execution_count": 16,
      "metadata": {
        "colab": {
          "base_uri": "https://localhost:8080/"
        },
        "id": "I4rtqRxCIZ2p",
        "outputId": "9f186af9-843d-4c82-91cf-6f86374e44f9"
      },
      "outputs": [
        {
          "output_type": "stream",
          "name": "stdout",
          "text": [
            "sum: 3\n",
            "difference: 3\n",
            "multiply: 18\n",
            "quotient: 7.0\n",
            "power: 16\n",
            "remainder: 3\n"
          ]
        }
      ],
      "source": [
        "sum = 1+2\n",
        "difference = 5-2\n",
        "multiply = 3*6\n",
        "quotient = 35/5\n",
        "power = 2**4\n",
        "remainder = 35%8\n",
        "print(\"sum:\", sum)\n",
        "print(\"difference:\", difference)\n",
        "print(\"multiply:\", multiply)\n",
        "print(\"quotient:\", quotient)\n",
        "print(\"power:\", power)\n",
        "print(\"remainder:\", remainder)"
      ]
    },
    {
      "cell_type": "code",
      "source": [
        "sum = 1+2\n",
        "difference = 5-2\n",
        "multiply = 3*6\n",
        "quotient = 35/5\n",
        "power = 2**4\n",
        "remainder = 35%8\n",
        "print('sum: {}'.format(sum))\n",
        "print('difference: {}'.format(difference))\n",
        "print('multiply: {}'.format(multiply))\n",
        "print('quotient: {}'.format(quotient))\n",
        "print('power: {}'.format(power))\n",
        "print('remainder: {}'.format(remainder))"
      ],
      "metadata": {
        "colab": {
          "base_uri": "https://localhost:8080/"
        },
        "id": "on_NnZ34M-RT",
        "outputId": "40e4f213-b57c-44c5-f425-97bab8b6e16f"
      },
      "execution_count": 17,
      "outputs": [
        {
          "output_type": "stream",
          "name": "stdout",
          "text": [
            "sum: 3\n",
            "difference: 3\n",
            "multiply: 18\n",
            "quotient: 7.0\n",
            "power: 16\n",
            "remainder: 3\n"
          ]
        }
      ]
    },
    {
      "cell_type": "code",
      "source": [
        "sum = 1+2\n",
        "difference = 5-2\n",
        "new =sum + difference\n",
        "print(new)\n",
        "print(sum/sum)\n",
        "print(sum+1)\n",
        "print(difference+1)\n",
        "print(sum%sum)\n",
        "print(sum//sum)"
      ],
      "metadata": {
        "colab": {
          "base_uri": "https://localhost:8080/"
        },
        "id": "Udh35etWOeRB",
        "outputId": "5ade79a7-a3e4-4cba-ffe1-1c0a3c3c3392"
      },
      "execution_count": 18,
      "outputs": [
        {
          "output_type": "stream",
          "name": "stdout",
          "text": [
            "6\n",
            "1.0\n",
            "4\n",
            "4\n",
            "0\n",
            "1\n"
          ]
        }
      ]
    },
    {
      "cell_type": "markdown",
      "source": [
        "# ***Boolean***"
      ],
      "metadata": {
        "id": "BTM6YqrYQw5q"
      }
    },
    {
      "cell_type": "code",
      "source": [
        "a=40\n",
        "b=30\n",
        "c=35\n",
        "print(a==b)\n",
        "print(a>c)\n",
        "print(a>=b)\n",
        "print(b>c)\n",
        "print(b<=a)\n",
        "print(c!=b)"
      ],
      "metadata": {
        "colab": {
          "base_uri": "https://localhost:8080/"
        },
        "id": "F4fJw53iQ00p",
        "outputId": "cba46cd9-7c85-42c2-efc0-280fd8a55d2c"
      },
      "execution_count": 19,
      "outputs": [
        {
          "output_type": "stream",
          "name": "stdout",
          "text": [
            "False\n",
            "True\n",
            "True\n",
            "False\n",
            "True\n",
            "True\n"
          ]
        }
      ]
    },
    {
      "cell_type": "code",
      "source": [
        "a=40\n",
        "b=30\n",
        "c=35\n",
        "print(a>b and a>=b)\n",
        "print(a<c or c>b)\n",
        "print(not a<b)"
      ],
      "metadata": {
        "colab": {
          "base_uri": "https://localhost:8080/"
        },
        "id": "21qY7OKXSrsr",
        "outputId": "1c751fda-c99d-4a1a-8177-aa71a5987f8c"
      },
      "execution_count": 20,
      "outputs": [
        {
          "output_type": "stream",
          "name": "stdout",
          "text": [
            "True\n",
            "True\n",
            "True\n"
          ]
        }
      ]
    },
    {
      "cell_type": "markdown",
      "source": [
        "# ***CONDITIONALS***"
      ],
      "metadata": {
        "id": "Sx_epi5y8biM"
      }
    },
    {
      "cell_type": "code",
      "source": [
        "a=34\n",
        "b=49\n",
        "if(a<b):\n",
        "  print(\"a is lessthan b\")\n",
        "elif(a>b):\n",
        "  print(\"a is greater than b\")\n",
        "else:\n",
        "  print(\"their are equal\")"
      ],
      "metadata": {
        "colab": {
          "base_uri": "https://localhost:8080/"
        },
        "id": "8gTVKKLH8jQO",
        "outputId": "0a788a38-a7dc-462a-b28f-fd9bd420495b"
      },
      "execution_count": 21,
      "outputs": [
        {
          "output_type": "stream",
          "name": "stdout",
          "text": [
            "a is lessthan b\n"
          ]
        }
      ]
    },
    {
      "cell_type": "code",
      "source": [
        "a=34\n",
        "b=20\n",
        "if(a<b):\n",
        "  print(\"a is lessthan b\")\n",
        "elif(a>b):\n",
        "  print(\"a is greater than b\")\n",
        "else:\n",
        "  print(\"their are equal\")"
      ],
      "metadata": {
        "colab": {
          "base_uri": "https://localhost:8080/"
        },
        "id": "amCuU5_7-ITK",
        "outputId": "7e626a6f-821e-4157-9304-86d46ca8aa79"
      },
      "execution_count": 22,
      "outputs": [
        {
          "output_type": "stream",
          "name": "stdout",
          "text": [
            "a is greater than b\n"
          ]
        }
      ]
    },
    {
      "cell_type": "code",
      "source": [
        "a=49\n",
        "b=49\n",
        "if(a<b):\n",
        "  print(\"a is lessthan b\")\n",
        "elif(a>b):\n",
        "  print(\"a is greater than b\")\n",
        "else:\n",
        "  print(\"their are equal\")"
      ],
      "metadata": {
        "colab": {
          "base_uri": "https://localhost:8080/"
        },
        "id": "4QBnL2zI-P_T",
        "outputId": "5c7f271c-6c1b-4d69-b13e-6159c03af947"
      },
      "execution_count": 23,
      "outputs": [
        {
          "output_type": "stream",
          "name": "stdout",
          "text": [
            "their are equal\n"
          ]
        }
      ]
    },
    {
      "cell_type": "code",
      "source": [
        "def say_hi():\n",
        "  print(\"Hi\")"
      ],
      "metadata": {
        "id": "rR7a0DBUAy0h"
      },
      "execution_count": 24,
      "outputs": []
    },
    {
      "cell_type": "code",
      "source": [
        "def say_hi(name):\n",
        "  print(\"Hi {}!\".format(name))\n",
        "say_hi(\"Govardhan\")\n",
        "say_hi(\"saikrishna\")"
      ],
      "metadata": {
        "colab": {
          "base_uri": "https://localhost:8080/"
        },
        "id": "Fr7u4iNaBBgd",
        "outputId": "bc198691-d361-4e57-f858-0df67512bdd8"
      },
      "execution_count": 25,
      "outputs": [
        {
          "output_type": "stream",
          "name": "stdout",
          "text": [
            "Hi Govardhan!\n",
            "Hi saikrishna!\n"
          ]
        }
      ]
    },
    {
      "cell_type": "code",
      "source": [
        "def say_hi(first, last):\n",
        "  print(\"Hi {} {}!\".format(first, last))\n",
        "say_hi('vinayak', 'Govardhan')"
      ],
      "metadata": {
        "colab": {
          "base_uri": "https://localhost:8080/"
        },
        "id": "kWPWHsklBlGI",
        "outputId": "2c1246cd-d823-4c9e-f405-bb05658307ac"
      },
      "execution_count": 26,
      "outputs": [
        {
          "output_type": "stream",
          "name": "stdout",
          "text": [
            "Hi vinayak Govardhan!\n"
          ]
        }
      ]
    },
    {
      "cell_type": "code",
      "source": [
        "def odd_or_even(number):\n",
        "  if number % 2 == 0:\n",
        "    return(\"even\")\n",
        "  else:\n",
        "    return(\"odd\")\n",
        "odd_or_even_string = odd_or_even(8)\n",
        "print(odd_or_even_string)"
      ],
      "metadata": {
        "colab": {
          "base_uri": "https://localhost:8080/"
        },
        "id": "8I_8ajl0CoFl",
        "outputId": "56942900-43ae-4a53-c979-09f4aa40341c"
      },
      "execution_count": 28,
      "outputs": [
        {
          "output_type": "stream",
          "name": "stdout",
          "text": [
            "even\n"
          ]
        }
      ]
    },
    {
      "cell_type": "code",
      "source": [
        "def odd_or_even(number):\n",
        "  if number % 2 == 0:\n",
        "    return(\"even\")\n",
        "  else:\n",
        "    return(\"odd\")\n",
        "odd_or_even_string = odd_or_even(57)\n",
        "print(odd_or_even_string)"
      ],
      "metadata": {
        "colab": {
          "base_uri": "https://localhost:8080/"
        },
        "id": "yfZ_GZ8oHKdV",
        "outputId": "30baa109-4758-4826-e73c-9234bac51fba"
      },
      "execution_count": 29,
      "outputs": [
        {
          "output_type": "stream",
          "name": "stdout",
          "text": [
            "odd\n"
          ]
        }
      ]
    },
    {
      "cell_type": "code",
      "source": [
        "def get_name():\n",
        "  name = input('what is your name? ')\n",
        "  return(name)\n",
        "def say_name(name):\n",
        "  print('your name is {}.'.format(name))\n",
        "def get_and_say_name():\n",
        "  name = get_name()\n",
        "  say_name(name)\n",
        "get_and_say_name()"
      ],
      "metadata": {
        "colab": {
          "base_uri": "https://localhost:8080/"
        },
        "id": "Djr93ECPKRvs",
        "outputId": "0abddd7e-a1ed-49ae-d0b7-d3055c6c51bf"
      },
      "execution_count": 34,
      "outputs": [
        {
          "output_type": "stream",
          "name": "stdout",
          "text": [
            "what is your name? vinayak\n",
            "your name is vinayak.\n"
          ]
        }
      ]
    }
  ]
}