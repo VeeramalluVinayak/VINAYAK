{
  "nbformat": 4,
  "nbformat_minor": 0,
  "metadata": {
    "colab": {
      "provenance": []
    },
    "kernelspec": {
      "name": "python3",
      "display_name": "Python 3"
    },
    "language_info": {
      "name": "python"
    }
  },
  "cells": [
    {
      "cell_type": "code",
      "execution_count": 7,
      "metadata": {
        "colab": {
          "base_uri": "https://localhost:8080/"
        },
        "id": "hwBvXNuGaDdL",
        "outputId": "a672e297-fbae-4a65-82f7-48e995d42918"
      },
      "outputs": [
        {
          "output_type": "stream",
          "name": "stdout",
          "text": [
            "['banana', 'apple', 'kiwi', 42]\n"
          ]
        }
      ],
      "source": [
        "list = [\"banana\", \"apple\", \"kiwi\", 42]\n",
        "print(list)"
      ]
    },
    {
      "cell_type": "code",
      "source": [
        "list = [\" banana\", \"apple\", \"kiwi\", 42]\n",
        "print(len(list))"
      ],
      "metadata": {
        "colab": {
          "base_uri": "https://localhost:8080/"
        },
        "id": "Y66DPnPUeo88",
        "outputId": "6bfb0dff-1480-4fbe-9920-9458e0d1d385"
      },
      "execution_count": 2,
      "outputs": [
        {
          "output_type": "stream",
          "name": "stdout",
          "text": [
            "4\n"
          ]
        }
      ]
    },
    {
      "cell_type": "code",
      "source": [
        "list = [\"banana\", \"apple\", \"kiwi\", 42]\n",
        "print(list[0])\n",
        "print(list[1])\n",
        "print(list[3])"
      ],
      "metadata": {
        "colab": {
          "base_uri": "https://localhost:8080/"
        },
        "id": "P1FmA3K1ethP",
        "outputId": "d371ee6e-1185-455c-8872-68f8ce1a6d6a"
      },
      "execution_count": 6,
      "outputs": [
        {
          "output_type": "stream",
          "name": "stdout",
          "text": [
            "banana\n",
            "apple\n",
            "42\n"
          ]
        }
      ]
    },
    {
      "cell_type": "code",
      "source": [
        "list = [\"banana\", \"apple\", \"kiwi\", 42]\n",
        "print(type(list))"
      ],
      "metadata": {
        "colab": {
          "base_uri": "https://localhost:8080/"
        },
        "id": "EuD35CM7fOkM",
        "outputId": "d486ea07-390f-442b-dcdc-f52a63a7578b"
      },
      "execution_count": 8,
      "outputs": [
        {
          "output_type": "stream",
          "name": "stdout",
          "text": [
            "<class 'list'>\n"
          ]
        }
      ]
    },
    {
      "cell_type": "code",
      "source": [
        "list = [\"banana\", \"apple\", \"kiwi\", 42]\n",
        "print(list[-1])\n",
        "print(list[-2])\n",
        "print(list[-3])"
      ],
      "metadata": {
        "colab": {
          "base_uri": "https://localhost:8080/"
        },
        "id": "hv29udyUfr8Q",
        "outputId": "9ab21e3c-26c7-4ac5-8ba2-c9bb87695746"
      },
      "execution_count": 9,
      "outputs": [
        {
          "output_type": "stream",
          "name": "stdout",
          "text": [
            "42\n",
            "kiwi\n",
            "apple\n"
          ]
        }
      ]
    },
    {
      "cell_type": "code",
      "source": [
        "list = [\"banana\", \"apple\", \"kiwi\", 42]\n",
        "list.append(\"grapes\")\n",
        "print(list)"
      ],
      "metadata": {
        "colab": {
          "base_uri": "https://localhost:8080/"
        },
        "id": "TzqEmGRogHq9",
        "outputId": "8aa500e2-4712-4625-d4ce-bfbf5a1dd6bc"
      },
      "execution_count": 10,
      "outputs": [
        {
          "output_type": "stream",
          "name": "stdout",
          "text": [
            "['banana', 'apple', 'kiwi', 42, 'grapes']\n"
          ]
        }
      ]
    },
    {
      "cell_type": "code",
      "source": [
        "list = [\"banana\", \"apple\", \"kiwi\", 42]\n",
        "list.append(\"grapes\")\n",
        "print(list)\n",
        "print(list[4])"
      ],
      "metadata": {
        "colab": {
          "base_uri": "https://localhost:8080/"
        },
        "id": "j-o2W0Eigxb1",
        "outputId": "a58ac025-dc27-48d4-e70d-b6d75ef8383e"
      },
      "execution_count": 12,
      "outputs": [
        {
          "output_type": "stream",
          "name": "stdout",
          "text": [
            "['banana', 'apple', 'kiwi', 42, 'grapes']\n",
            "grapes\n"
          ]
        }
      ]
    },
    {
      "cell_type": "code",
      "source": [
        "list = [\"banana\", \"apple\", \"kiwi\", 42]\n",
        "list.append([\"grapes\",465])\n",
        "print(list)"
      ],
      "metadata": {
        "colab": {
          "base_uri": "https://localhost:8080/"
        },
        "id": "Rda8gorZhDvy",
        "outputId": "f246b1e3-e0b6-4944-bb37-ff1fd22a71c1"
      },
      "execution_count": 15,
      "outputs": [
        {
          "output_type": "stream",
          "name": "stdout",
          "text": [
            "['banana', 'apple', 'kiwi', 42, ['grapes', 465]]\n"
          ]
        }
      ]
    },
    {
      "cell_type": "code",
      "source": [
        "list = [\"banana\", \"apple\", \"kiwi\", 42]\n",
        "list.extend([\"grapes\", 465])\n",
        "print(list)\n",
        "list2=[\"bgmi\",\"pubg\"]\n",
        "list.extend(list2)\n",
        "print(list)"
      ],
      "metadata": {
        "colab": {
          "base_uri": "https://localhost:8080/"
        },
        "id": "YlsQYH7wh0E7",
        "outputId": "c38519ae-3321-4df9-a1ec-7098086dbaba"
      },
      "execution_count": 18,
      "outputs": [
        {
          "output_type": "stream",
          "name": "stdout",
          "text": [
            "['banana', 'apple', 'kiwi', 42, 'grapes', 465]\n",
            "['banana', 'apple', 'kiwi', 42, 'grapes', 465, 'bgmi', 'pubg']\n"
          ]
        }
      ]
    },
    {
      "cell_type": "code",
      "source": [
        "list = [\"banana\", \"apple\", \"kiwi\", 42]\n",
        "list.insert(3, \"grapes\")\n",
        "print(list)"
      ],
      "metadata": {
        "colab": {
          "base_uri": "https://localhost:8080/"
        },
        "id": "ZQoK5djyi2J5",
        "outputId": "fe44d8e7-f9ce-441e-dbb2-ec8a7d922bbc"
      },
      "execution_count": 19,
      "outputs": [
        {
          "output_type": "stream",
          "name": "stdout",
          "text": [
            "['banana', 'apple', 'kiwi', 'grapes', 42]\n"
          ]
        }
      ]
    },
    {
      "cell_type": "code",
      "source": [
        "list = [\"banana\", \"apple\", \"kiwi\", 42]\n",
        "list.insert(0, \"grapes\")\n",
        "print(list)"
      ],
      "metadata": {
        "colab": {
          "base_uri": "https://localhost:8080/"
        },
        "id": "Rs8m6WtcjQka",
        "outputId": "bef6f963-8909-417b-ed11-80e56b647869"
      },
      "execution_count": 20,
      "outputs": [
        {
          "output_type": "stream",
          "name": "stdout",
          "text": [
            "['grapes', 'banana', 'apple', 'kiwi', 42]\n"
          ]
        }
      ]
    },
    {
      "cell_type": "code",
      "source": [
        "list = [\"banana\", \"apple\", \"kiwi\", 42]\n",
        "list.insert(3, \"grapes\")\n",
        "list.insert(0, \"papaya\")\n",
        "print(list)"
      ],
      "metadata": {
        "colab": {
          "base_uri": "https://localhost:8080/"
        },
        "id": "cULjp6KAjV39",
        "outputId": "d19dc13d-983a-41e1-fdd1-cbeae896e1d5"
      },
      "execution_count": 22,
      "outputs": [
        {
          "output_type": "stream",
          "name": "stdout",
          "text": [
            "['papaya', 'banana', 'apple', 'kiwi', 'grapes', 42]\n"
          ]
        }
      ]
    },
    {
      "cell_type": "code",
      "source": [
        "list = ['papaya', 'banana', 'apple', 'kiwi', 'grapes', 42]\n",
        "some_list = list[1:4]\n",
        "first_two = list[0:2]\n",
        "first_two_again = list[:3]\n",
        "print(\"Some list :  {}\".format(some_list))\n",
        "print(first_two)\n",
        "print(\"First two again : {}\".format(first_two_again))"
      ],
      "metadata": {
        "colab": {
          "base_uri": "https://localhost:8080/"
        },
        "id": "_t55MzqXjwQj",
        "outputId": "2e9d999c-24fb-43ae-d18f-171c5b4bd21a"
      },
      "execution_count": 24,
      "outputs": [
        {
          "output_type": "stream",
          "name": "stdout",
          "text": [
            "Some list :  ['banana', 'apple', 'kiwi']\n",
            "['papaya', 'banana']\n",
            "First two again : ['papaya', 'banana', 'apple']\n"
          ]
        }
      ]
    },
    {
      "cell_type": "code",
      "source": [
        "list = ['papaya', 'banana', 'apple', 'kiwi', 'grapes', 42]\n",
        "some_list = list[3:5]\n",
        "last_two = list[4:6]\n",
        "last_two_again = list[-3:]\n",
        "print(\"Some list :  {}\".format(some_list))\n",
        "print(last_two)\n",
        "print(\"Last two again : {}\".format(last_two_again))"
      ],
      "metadata": {
        "colab": {
          "base_uri": "https://localhost:8080/"
        },
        "id": "dyeWadfSlleT",
        "outputId": "3b77b295-6ff4-44d2-f262-4fc6f2e9cb9e"
      },
      "execution_count": 26,
      "outputs": [
        {
          "output_type": "stream",
          "name": "stdout",
          "text": [
            "Some list :  ['kiwi', 'grapes']\n",
            "['grapes', 42]\n",
            "Last two again : ['kiwi', 'grapes', 42]\n"
          ]
        }
      ]
    },
    {
      "cell_type": "code",
      "source": [
        "list = 'apple'[0:3]\n",
        "print(list)"
      ],
      "metadata": {
        "colab": {
          "base_uri": "https://localhost:8080/"
        },
        "id": "2r7nwT5QmSvv",
        "outputId": "8ceb261f-d689-47cf-c328-35989ffb0e5f"
      },
      "execution_count": 28,
      "outputs": [
        {
          "output_type": "stream",
          "name": "stdout",
          "text": [
            "app\n"
          ]
        }
      ]
    },
    {
      "cell_type": "code",
      "source": [
        "list = 'apple'[-3:]\n",
        "print(list)"
      ],
      "metadata": {
        "colab": {
          "base_uri": "https://localhost:8080/"
        },
        "id": "BDCqJAtamxQH",
        "outputId": "1a434417-1806-41f4-d05e-91919ba4aaf7"
      },
      "execution_count": 32,
      "outputs": [
        {
          "output_type": "stream",
          "name": "stdout",
          "text": [
            "ple\n"
          ]
        }
      ]
    },
    {
      "cell_type": "code",
      "source": [
        "list = [\"banana\", \"apple\", \"kiwi\", 42]\n",
        "kc=list.index(\"kiwi\")\n",
        "print(kc)"
      ],
      "metadata": {
        "colab": {
          "base_uri": "https://localhost:8080/"
        },
        "id": "c8hIP6L_nJlC",
        "outputId": "f6f6308e-2dab-41a1-d4cb-3ac705cd83c0"
      },
      "execution_count": 34,
      "outputs": [
        {
          "output_type": "stream",
          "name": "stdout",
          "text": [
            "2\n"
          ]
        }
      ]
    },
    {
      "cell_type": "code",
      "source": [
        "list = [\"banana\", \"apple\", \"kiwi\", 42]\n",
        "try:\n",
        "  kc=list.index(\"grapes\")\n",
        "except:\n",
        "  kc=\"No grapes found\"\n",
        "print(kc)"
      ],
      "metadata": {
        "colab": {
          "base_uri": "https://localhost:8080/"
        },
        "id": "S9My6Tw7nnkf",
        "outputId": "a327ec45-21c5-4652-9151-1387e0d4d15c"
      },
      "execution_count": 35,
      "outputs": [
        {
          "output_type": "stream",
          "name": "stdout",
          "text": [
            "No grapes found\n"
          ]
        }
      ]
    },
    {
      "cell_type": "code",
      "source": [
        "list = [\"banana\", \"apple\", \"kiwi\", 42]\n",
        "for kc in list:\n",
        "  print(kc)"
      ],
      "metadata": {
        "colab": {
          "base_uri": "https://localhost:8080/"
        },
        "id": "O61qlg5nor6c",
        "outputId": "af8de1d0-d282-4b07-b975-dcfd05708514"
      },
      "execution_count": 36,
      "outputs": [
        {
          "output_type": "stream",
          "name": "stdout",
          "text": [
            "banana\n",
            "apple\n",
            "kiwi\n",
            "42\n"
          ]
        }
      ]
    },
    {
      "cell_type": "code",
      "source": [
        "list = [\"banana\", \"apple\", \"kiwi\"]\n",
        "for kc in list:\n",
        "  print(kc.upper())"
      ],
      "metadata": {
        "colab": {
          "base_uri": "https://localhost:8080/"
        },
        "id": "r-bjSr2QpLHg",
        "outputId": "0efa5e50-323e-4b08-ad8f-36ddb90d5c97"
      },
      "execution_count": 38,
      "outputs": [
        {
          "output_type": "stream",
          "name": "stdout",
          "text": [
            "BANANA\n",
            "APPLE\n",
            "KIWI\n"
          ]
        }
      ]
    },
    {
      "cell_type": "code",
      "source": [
        "list = [\"banana\", \"apple\", \"kiwi\", 42]\n",
        "index=0\n",
        "while index < len(list):\n",
        "  print(list[index])\n",
        "  index += 1"
      ],
      "metadata": {
        "colab": {
          "base_uri": "https://localhost:8080/"
        },
        "id": "3Pm6XAwHpbBt",
        "outputId": "6230023a-4863-42e0-8a3b-5709c783b97a"
      },
      "execution_count": 40,
      "outputs": [
        {
          "output_type": "stream",
          "name": "stdout",
          "text": [
            "banana\n",
            "apple\n",
            "kiwi\n",
            "42\n"
          ]
        }
      ]
    },
    {
      "cell_type": "code",
      "source": [
        "list = [\"banana\", \"apple\", \"kiwi\"]\n",
        "sorted_list = sorted(list)\n",
        "print(sorted_list)\n",
        "list.sort()\n",
        "print(list)"
      ],
      "metadata": {
        "colab": {
          "base_uri": "https://localhost:8080/"
        },
        "id": "j9XUkTNArOUQ",
        "outputId": "86ca13e6-9015-4f58-ba88-9e213d49e2e5"
      },
      "execution_count": 48,
      "outputs": [
        {
          "output_type": "stream",
          "name": "stdout",
          "text": [
            "['apple', 'banana', 'kiwi']\n",
            "['apple', 'banana', 'kiwi']\n"
          ]
        }
      ]
    },
    {
      "cell_type": "code",
      "source": [
        "list1 = [\"banana\", \"grapes\", \"apple\"]\n",
        "list2 = [\"pubg\", \"bgmi\", \"freefire\"]\n",
        "list = list1+list2\n",
        "print(list)"
      ],
      "metadata": {
        "colab": {
          "base_uri": "https://localhost:8080/"
        },
        "id": "N5TFJnSSs4xA",
        "outputId": "5608c69e-4a8f-4e4a-f79f-958f8f762f31"
      },
      "execution_count": 49,
      "outputs": [
        {
          "output_type": "stream",
          "name": "stdout",
          "text": [
            "['banana', 'grapes', 'apple', 'pubg', 'bgmi', 'freefire']\n"
          ]
        }
      ]
    },
    {
      "cell_type": "code",
      "source": [
        "list = ['banana', 'grapes', 'apple', 'pubg', 'bgmi', 'freefire']\n",
        "for i in range(0, len(list)):\n",
        "  print(list[i])\n"
      ],
      "metadata": {
        "id": "MIUtZED4thHK"
      },
      "execution_count": null,
      "outputs": []
    }
  ]
}