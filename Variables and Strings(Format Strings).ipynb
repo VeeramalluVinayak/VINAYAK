{
  "nbformat": 4,
  "nbformat_minor": 0,
  "metadata": {
    "colab": {
      "provenance": [],
      "authorship_tag": "ABX9TyNKWSuoQeVwpkMmV1TvaIiY",
      "include_colab_link": true
    },
    "kernelspec": {
      "name": "python3",
      "display_name": "Python 3"
    },
    "language_info": {
      "name": "python"
    }
  },
  "cells": [
    {
      "cell_type": "markdown",
      "metadata": {
        "id": "view-in-github",
        "colab_type": "text"
      },
      "source": [
        "<a href=\"https://colab.research.google.com/github/VeeramalluVinayak/VINAYAK/blob/main/Variables%20and%20Strings(Format%20Strings).ipynb\" target=\"_parent\"><img src=\"https://colab.research.google.com/assets/colab-badge.svg\" alt=\"Open In Colab\"/></a>"
      ]
    },
    {
      "cell_type": "code",
      "execution_count": 1,
      "metadata": {
        "colab": {
          "base_uri": "https://localhost:8080/"
        },
        "id": "BM3onUs5zfsi",
        "outputId": "3503ba75-1a85-44e6-f5bc-068c7e009953"
      },
      "outputs": [
        {
          "output_type": "stream",
          "name": "stdout",
          "text": [
            "HEllo\n"
          ]
        }
      ],
      "source": [
        "print(\"HEllo\")"
      ]
    },
    {
      "cell_type": "markdown",
      "source": [
        "# **FUNCTION**"
      ],
      "metadata": {
        "id": "hfNiLyav8L9D"
      }
    },
    {
      "cell_type": "code",
      "source": [
        "a=\"apple\"\n",
        "a_len=len(a)\n",
        "print(a_len)"
      ],
      "metadata": {
        "colab": {
          "base_uri": "https://localhost:8080/"
        },
        "id": "FQWlOVlH8Re4",
        "outputId": "fcb3b163-e2ab-4a80-a3fb-3e238dcd8f3e"
      },
      "execution_count": 2,
      "outputs": [
        {
          "output_type": "stream",
          "name": "stdout",
          "text": [
            "5\n"
          ]
        }
      ]
    },
    {
      "cell_type": "code",
      "source": [
        "print(a.upper())"
      ],
      "metadata": {
        "colab": {
          "base_uri": "https://localhost:8080/"
        },
        "id": "tICKxiQV-Ypu",
        "outputId": "e3c3fe04-31d2-4565-85e3-e7715b76fc7c"
      },
      "execution_count": 3,
      "outputs": [
        {
          "output_type": "stream",
          "name": "stdout",
          "text": [
            "APPLE\n"
          ]
        }
      ]
    },
    {
      "cell_type": "code",
      "source": [
        "a=\"APPLE\"\n",
        "print(a.lower())"
      ],
      "metadata": {
        "colab": {
          "base_uri": "https://localhost:8080/"
        },
        "id": "2SCEjACp-fcp",
        "outputId": "0a04d079-d680-4db8-a67a-70b4fb5d857c"
      },
      "execution_count": 4,
      "outputs": [
        {
          "output_type": "stream",
          "name": "stdout",
          "text": [
            "apple\n"
          ]
        }
      ]
    },
    {
      "cell_type": "code",
      "source": [
        "a='I '\n",
        "b='LOVE '\n",
        "c='PYTHON.'\n",
        "print(a+b+c)"
      ],
      "metadata": {
        "colab": {
          "base_uri": "https://localhost:8080/"
        },
        "id": "_USkkCKO_bh1",
        "outputId": "1c5bb493-7519-4a95-fd75-103bbebb2365"
      },
      "execution_count": 13,
      "outputs": [
        {
          "output_type": "stream",
          "name": "stdout",
          "text": [
            "I LOVE PYTHON.\n"
          ]
        }
      ]
    },
    {
      "cell_type": "code",
      "source": [
        "print('I' + 'love' + 'python')"
      ],
      "metadata": {
        "colab": {
          "base_uri": "https://localhost:8080/"
        },
        "id": "xJiDMajJAGtj",
        "outputId": "383c837b-da1b-4846-d530-b9089a18b831"
      },
      "execution_count": 14,
      "outputs": [
        {
          "output_type": "stream",
          "name": "stdout",
          "text": [
            "Ilovepython\n"
          ]
        }
      ]
    },
    {
      "cell_type": "code",
      "source": [
        "a='I'\n",
        "b='LOVE'\n",
        "c='PYTHON.'\n",
        "sentence = a + ' ' + b + ' ' + c\n",
        "print(sentence)"
      ],
      "metadata": {
        "colab": {
          "base_uri": "https://localhost:8080/"
        },
        "id": "nEWlyVUjAwGT",
        "outputId": "5a07e2c1-42bd-447b-d3f2-f8167701aa60"
      },
      "execution_count": 16,
      "outputs": [
        {
          "output_type": "stream",
          "name": "stdout",
          "text": [
            "I LOVE PYTHON.\n"
          ]
        }
      ]
    },
    {
      "cell_type": "markdown",
      "source": [
        "# **REPEATING FUNCTION**"
      ],
      "metadata": {
        "id": "g5hhcLd3CDFl"
      }
    },
    {
      "cell_type": "code",
      "source": [
        "Happy = \"Iam happy \" * 5\n",
        "print(Happy)"
      ],
      "metadata": {
        "colab": {
          "base_uri": "https://localhost:8080/"
        },
        "id": "kwUWOxXgBZTn",
        "outputId": "85f33193-3cf7-4c32-8324-9eefddc101c7"
      },
      "execution_count": 19,
      "outputs": [
        {
          "output_type": "stream",
          "name": "stdout",
          "text": [
            "Iam happy Iam happy Iam happy Iam happy Iam happy \n"
          ]
        }
      ]
    },
    {
      "cell_type": "markdown",
      "source": [
        "# ***FORMAT STRING***"
      ],
      "metadata": {
        "id": "oP5dL45jCypp"
      }
    },
    {
      "cell_type": "code",
      "source": [
        "a=\"love\"\n",
        "print(\"I {} Python.\".format(a))\n",
        "print(\"{} {} {}\".format('I', a, 'Python.'))"
      ],
      "metadata": {
        "colab": {
          "base_uri": "https://localhost:8080/"
        },
        "id": "8Hyl8Hu7C55a",
        "outputId": "f73dc5f8-aba8-45a8-9b98-8d461fc5ddf7"
      },
      "execution_count": 22,
      "outputs": [
        {
          "output_type": "stream",
          "name": "stdout",
          "text": [
            "I love Python.\n",
            "I love Python.\n"
          ]
        }
      ]
    },
    {
      "cell_type": "code",
      "source": [
        "print(\"I {0} {1}. {1} {0}s me.\".format('l0ve', 'Python'))"
      ],
      "metadata": {
        "colab": {
          "base_uri": "https://localhost:8080/"
        },
        "id": "JwO9bKrPES0i",
        "outputId": "e943e142-c0fa-49d7-bdf0-75ab3b266873"
      },
      "execution_count": 24,
      "outputs": [
        {
          "output_type": "stream",
          "name": "stdout",
          "text": [
            "I l0ve Python. Python l0ves me.\n"
          ]
        }
      ]
    },
    {
      "cell_type": "code",
      "source": [
        "print(\"{0:8} | {1:8}\".format('Fruit', 'Quantity'))\n",
        "print(\"{0:8} | {1:8}\".format('Apple', 3))\n",
        "print(\"{0:8} | {1:8}\".format('Orange', 10))"
      ],
      "metadata": {
        "colab": {
          "base_uri": "https://localhost:8080/"
        },
        "id": "h-XRPWjFFbf6",
        "outputId": "55f1cfb1-1bfa-494e-81c4-2dcbe727e224"
      },
      "execution_count": 28,
      "outputs": [
        {
          "output_type": "stream",
          "name": "stdout",
          "text": [
            "Fruit    | Quantity\n",
            "Apple    |        3\n",
            "Orange   |       10\n"
          ]
        }
      ]
    },
    {
      "cell_type": "code",
      "source": [
        "print(\"{0} | {1}\".format('Fruit', 'Quantity'))\n",
        "print(\"{0} | {1}\".format('Apple', 3))\n",
        "print(\"{0} | {1}\".format('Orange', 10))"
      ],
      "metadata": {
        "colab": {
          "base_uri": "https://localhost:8080/"
        },
        "id": "yNHawiJ4Hzap",
        "outputId": "e051e919-db13-471c-9200-336653fe6a4d"
      },
      "execution_count": 29,
      "outputs": [
        {
          "output_type": "stream",
          "name": "stdout",
          "text": [
            "Fruit | Quantity\n",
            "Apple | 3\n",
            "Orange | 10\n"
          ]
        }
      ]
    },
    {
      "cell_type": "code",
      "source": [
        "print(\"{0:8} | {1:<8}\".format('Fruit', 'Quantity'))\n",
        "print(\"{0:8} | {1:<8}\".format('Apple', 3))\n",
        "print(\"{0:8} | {1:<8}\".format('Orange', 10))"
      ],
      "metadata": {
        "colab": {
          "base_uri": "https://localhost:8080/"
        },
        "id": "HhsbMS7UIhYv",
        "outputId": "c6efb14c-12cb-48bb-e546-ee7045d9f7fd"
      },
      "execution_count": 30,
      "outputs": [
        {
          "output_type": "stream",
          "name": "stdout",
          "text": [
            "Fruit    | Quantity\n",
            "Apple    | 3       \n",
            "Orange   | 10      \n"
          ]
        }
      ]
    },
    {
      "cell_type": "code",
      "source": [
        "print(\"{0:8} | {1:>8}\".format('Fruit', 'Quantity'))\n",
        "print(\"{0:8} | {1:>8}\".format('Apple', 3))\n",
        "print(\"{0:8} | {1:>8}\".format('Orange', 10))"
      ],
      "metadata": {
        "colab": {
          "base_uri": "https://localhost:8080/"
        },
        "id": "1pF3Foi2IpUA",
        "outputId": "4cffffcc-f733-4d18-f44b-ddfac881fc9e"
      },
      "execution_count": 31,
      "outputs": [
        {
          "output_type": "stream",
          "name": "stdout",
          "text": [
            "Fruit    | Quantity\n",
            "Apple    |        3\n",
            "Orange   |       10\n"
          ]
        }
      ]
    },
    {
      "cell_type": "code",
      "source": [
        "print(\"{0:8} | {1:^8}\".format('Fruit', 'Quantity'))\n",
        "print(\"{0:8} | {1:^8}\".format('Apple', 3))\n",
        "print(\"{0:8} | {1:^8}\".format('Orange', 10))"
      ],
      "metadata": {
        "colab": {
          "base_uri": "https://localhost:8080/"
        },
        "id": "Wkjk_-s2It3h",
        "outputId": "d2d505d4-093c-410d-9590-8c90305bce64"
      },
      "execution_count": 32,
      "outputs": [
        {
          "output_type": "stream",
          "name": "stdout",
          "text": [
            "Fruit    | Quantity\n",
            "Apple    |    3    \n",
            "Orange   |    10   \n"
          ]
        }
      ]
    },
    {
      "cell_type": "code",
      "source": [
        "print(\"{0:8} | {1:>8}\".format('Fruit', 'Quantity'))\n",
        "print(\"{0:8} | {1:>8.2f}\".format('Apple', 2.334455))\n",
        "print(\"{0:8} | {1:>8.2f}\".format('Orange', 10))"
      ],
      "metadata": {
        "colab": {
          "base_uri": "https://localhost:8080/"
        },
        "id": "ftahIDzHJG65",
        "outputId": "8daf4f0a-4578-4765-f93a-1d74d2eb4f96"
      },
      "execution_count": 34,
      "outputs": [
        {
          "output_type": "stream",
          "name": "stdout",
          "text": [
            "Fruit    | Quantity\n",
            "Apple    |     2.33\n",
            "Orange   |    10.00\n"
          ]
        }
      ]
    }
  ]
}